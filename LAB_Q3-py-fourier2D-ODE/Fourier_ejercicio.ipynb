{
 "cells": [
  {
   "cell_type": "code",
   "execution_count": 1,
   "metadata": {},
   "outputs": [],
   "source": [
    "import numpy as np\n",
    "from matplotlib import mlab\n",
    "import pylab as plt\n",
    "from scipy import misc"
   ]
  },
  {
   "cell_type": "code",
   "execution_count": 2,
   "metadata": {},
   "outputs": [
    {
     "name": "stdout",
     "output_type": "stream",
     "text": [
      "(474, 630)\n"
     ]
    }
   ],
   "source": [
    "moonlanding = misc.imread(\"moonlanding.png\")\n",
    "print(moonlanding.shape)"
   ]
  },
  {
   "cell_type": "code",
   "execution_count": 3,
   "metadata": {},
   "outputs": [],
   "source": [
    "ft_moonlanding = np.fft.fft2(moonlanding)\n",
    "power = np.absolute(ft_moonlanding)**2"
   ]
  },
  {
   "cell_type": "code",
   "execution_count": 4,
   "metadata": {},
   "outputs": [],
   "source": [
    "max_d0 = ft_moonlanding.shape[0]\n",
    "max_d1 = ft_moonlanding.shape[1]\n",
    "ft_moonlanding_filtered = 255*np.ones(ft_moonlanding.shape,dtype = np.complex128)\n",
    "ft_moonlanding_filtered[0:50,0:50] = ft_moonlanding[0:50,0:50]\n",
    "ft_moonlanding_filtered[0:50,max_d1-51:max_d1-1] = ft_moonlanding[0:50,max_d1-51:max_d1-1]\n",
    "ft_moonlanding_filtered[max_d0-51:max_d0-1,0:50] = ft_moonlanding[max_d0-51:max_d0-1,0:50]\n",
    "ft_moonlanding_filtered[max_d0-51:max_d0-1,max_d1-51:max_d1-1] = ft_moonlanding[max_d0-51:max_d0-1,max_d1-51:max_d1-1]\n",
    "power_filtered = np.absolute(ft_moonlanding_filtered)**2"
   ]
  },
  {
   "cell_type": "code",
   "execution_count": 5,
   "metadata": {
    "collapsed": true
   },
   "outputs": [],
   "source": [
    "moonlanding_filtered = np.real(np.fft.ifft2(ft_moonlanding_filtered))"
   ]
  },
  {
   "cell_type": "code",
   "execution_count": 15,
   "metadata": {},
   "outputs": [],
   "source": [
    "fig1, ax1 = plt.subplots(2,2)\n",
    "ax1[0,0].imshow(moonlanding,cmap=plt.get_cmap('gray'), vmin=0, vmax=255)\n",
    "im = ax1[0,1].imshow(power)\n",
    "ax1[1,0].imshow(moonlanding_filtered, cmap=plt.get_cmap('gray'), vmin=0, vmax=255)\n",
    "imf = ax1[1,1].imshow(power_filtered)\n",
    "power_cut = 95.0\n",
    "power_cut_f = 98.0\n",
    "clipped_power = mlab.prctile(power.flatten(), power_cut)\n",
    "clipped_power_f = mlab.prctile(power_filtered.flatten(), power_cut_f)\n",
    "im.set_clim(0, clipped_power)\n",
    "imf.set_clim(0, clipped_power_f)\n",
    "plt.savefig('moon.png')"
   ]
  },
  {
   "cell_type": "code",
   "execution_count": null,
   "metadata": {
    "collapsed": true
   },
   "outputs": [],
   "source": []
  }
 ],
 "metadata": {
  "kernelspec": {
   "display_name": "Python 3",
   "language": "python",
   "name": "python3"
  },
  "language_info": {
   "codemirror_mode": {
    "name": "ipython",
    "version": 3
   },
   "file_extension": ".py",
   "mimetype": "text/x-python",
   "name": "python",
   "nbconvert_exporter": "python",
   "pygments_lexer": "ipython3",
   "version": "3.5.2"
  }
 },
 "nbformat": 4,
 "nbformat_minor": 2
}
