{
 "cells": [
  {
   "cell_type": "code",
   "execution_count": 1,
   "metadata": {
    "collapsed": true
   },
   "outputs": [],
   "source": [
    "import numpy as np\n",
    "import pylab as plt\n",
    "from mpl_toolkits.mplot3d import Axes3D"
   ]
  },
  {
   "cell_type": "code",
   "execution_count": 2,
   "metadata": {
    "collapsed": true
   },
   "outputs": [],
   "source": [
    "def derivative(x_t):\n",
    "    xdot = np.array([sigma*(x_t[1]-x_t[0]), x_t[0]*(rho - x_t[2])-x_t[1], x_t[0]*x_t[1]-beta*x_t[2]])\n",
    "    return xdot"
   ]
  },
  {
   "cell_type": "code",
   "execution_count": 3,
   "metadata": {
    "collapsed": true
   },
   "outputs": [],
   "source": [
    "def euler(time,nvar,x0):\n",
    "    x = np.zeros((nvar,time.shape[1]))\n",
    "    x[:,0] = x0\n",
    "    for i in range(1,time.shape[1]):\n",
    "        x[:,i] = x[:,i-1] + derivative(x[:,i-1])*(time[0,i]-time[0,i-1])\n",
    "    return x"
   ]
  },
  {
   "cell_type": "code",
   "execution_count": 4,
   "metadata": {},
   "outputs": [],
   "source": [
    "x0 = 1.0\n",
    "y0 = 1.0\n",
    "z0 = 1.0\n",
    "sigma = 10.0\n",
    "rho = 28.0\n",
    "beta = 8.0/3.0\n",
    "n_var = 3\n",
    "t0 = 0\n",
    "tend = 40\n",
    "n_puntos = np.int64((tend-t0)/0.001)"
   ]
  },
  {
   "cell_type": "code",
   "execution_count": 5,
   "metadata": {},
   "outputs": [],
   "source": [
    "t = np.array([np.linspace(t0,tend,n_puntos)])\n",
    "x = euler(t,n_var,np.array([x0,y0,z0]))"
   ]
  },
  {
   "cell_type": "code",
   "execution_count": 6,
   "metadata": {},
   "outputs": [],
   "source": [
    "fig1, ax1 = plt.subplots(nrows = 3)\n",
    "ax1[0].plot(t[0,:],x[0,:], 'g')\n",
    "ax1[1].plot(t[0,:],x[1,:], 'b')\n",
    "ax1[2].plot(t[0,:],x[2,:], 'violet')\n",
    "for j in range(0,3):\n",
    "    ax1[j].grid(linestyle = '--', linewidth = 0.25)\n",
    "    ax1[j].tick_params(labelsize=5)\n",
    "ax1[0].set_ylabel(r'Posición (m)', fontsize = 6)\n",
    "ax1[1].set_ylabel(r'Velocidad (m/s)', fontsize = 6)\n",
    "ax1[2].set_ylabel(r'Aceleración (m/s$^2$)', fontsize = 6)\n",
    "ax1[2].set_xlabel(r'Tiempo (s)', fontsize = 6)\n",
    "plt.savefig('lorenz2D.png')\n",
    "plt.close()"
   ]
  },
  {
   "cell_type": "code",
   "execution_count": 7,
   "metadata": {},
   "outputs": [],
   "source": [
    "fig2 = plt.figure()\n",
    "ax2 = fig2.add_subplot(111, projection='3d')\n",
    "ax2.plot(x[0,:], x[1,:], x[2,:])\n",
    "plt.savefig('lorenz.png')\n",
    "plt.close()"
   ]
  },
  {
   "cell_type": "code",
   "execution_count": null,
   "metadata": {
    "collapsed": true
   },
   "outputs": [],
   "source": []
  }
 ],
 "metadata": {
  "kernelspec": {
   "display_name": "Python 3",
   "language": "python",
   "name": "python3"
  },
  "language_info": {
   "codemirror_mode": {
    "name": "ipython",
    "version": 3
   },
   "file_extension": ".py",
   "mimetype": "text/x-python",
   "name": "python",
   "nbconvert_exporter": "python",
   "pygments_lexer": "ipython3",
   "version": "3.5.2"
  }
 },
 "nbformat": 4,
 "nbformat_minor": 2
}
