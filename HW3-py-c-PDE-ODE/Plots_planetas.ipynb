{
 "cells": [
  {
   "cell_type": "code",
   "execution_count": 1,
   "metadata": {
    "collapsed": true
   },
   "outputs": [],
   "source": [
    "# Se importan las librerias necesarias\n",
    "import numpy as np\n",
    "import pylab as plt\n",
    "from mpl_toolkits.mplot3d import Axes3D\n",
    "import matplotlib.animation as animation"
   ]
  },
  {
   "cell_type": "code",
   "execution_count": 2,
   "metadata": {
    "collapsed": true
   },
   "outputs": [],
   "source": [
    "# Funcion que inicializa la animacion, mostrando cada uno de los planetas en sus\n",
    "# posiciones iniciales.\n",
    "def init():  \n",
    "    texto1.set_text('t=0.00')\n",
    "    texto2.set_text('t=0.00')\n",
    "    for i in range(0,n_astros):\n",
    "        astro[i].set_data(np.array([x[0,i], y[0,i]]))\n",
    "        astro[i].set_3d_properties(z[0,i], 'z')\n",
    "    for i in range(0,5):\n",
    "        astro[i+n_astros].set_data(np.array([x[0,i], y[0,i]]))\n",
    "        astro[i+n_astros].set_3d_properties(z[0,i], 'z')\n",
    "    return astro"
   ]
  },
  {
   "cell_type": "code",
   "execution_count": 3,
   "metadata": {
    "collapsed": true
   },
   "outputs": [],
   "source": [
    "# Funcion que actualiz la posicion de los planetas en la animacion.\n",
    "def animate(t): \n",
    "    t1 = int(t*60) \n",
    "    t2 = int(t) \n",
    "    tiempo1 = t*3/5\n",
    "    tiempo2 = t/100 \n",
    "    texto1.set_text(('t=%.2f' % tiempo1))\n",
    "    texto2.set_text(('t=%.2f' % tiempo2))\n",
    "    for i in range(0,n_astros):        \n",
    "        astro[i].set_data(np.array([x[t1,i], y[t1,i]]))\n",
    "        astro[i].set_3d_properties(z[t1,i], 'z')\n",
    "    for i in range(0,5):        \n",
    "        astro[i+n_astros].set_data(np.array([x[t2,i], y[t2,i]]))\n",
    "        astro[i+n_astros].set_3d_properties(z[t2,i], 'z')\n",
    "    return astro"
   ]
  },
  {
   "cell_type": "code",
   "execution_count": 4,
   "metadata": {
    "collapsed": true
   },
   "outputs": [],
   "source": [
    "# Se cargan los datos generados con el archivo Planetas.c.\n",
    "posiciones = np.genfromtxt(\"trayectorias.csv\",delimiter=',',skip_header=1)"
   ]
  },
  {
   "cell_type": "code",
   "execution_count": 5,
   "metadata": {
    "collapsed": true
   },
   "outputs": [],
   "source": [
    "# Se definen las constantes necesarias.\n",
    "n_puntos = posiciones.shape[0]/3\n",
    "n_astros = posiciones.shape[1]"
   ]
  },
  {
   "cell_type": "code",
   "execution_count": 6,
   "metadata": {
    "collapsed": true
   },
   "outputs": [],
   "source": [
    "# Se guardan los radios de los astros relativos a la tierra y se modifican para que las diferencias no sea tan grandes\n",
    "radios = [109/12, 0.3829, 0.9499, 1.0, 0.533, 11.209/3, 9.4492/3, 4.007/1.5, 3.883/1.5, 0.1868*4]"
   ]
  },
  {
   "cell_type": "code",
   "execution_count": 7,
   "metadata": {
    "collapsed": true
   },
   "outputs": [],
   "source": [
    "# Se guardan en arreglos distintos las coordenadas x, y, z, de las posiciones de los astros.\n",
    "id_x = np.array([3*i for i in range(0,np.int64(n_puntos))])\n",
    "x = posiciones[id_x,:]\n",
    "y = posiciones[id_x+1,:]\n",
    "z = posiciones[id_x+2,:]"
   ]
  },
  {
   "cell_type": "code",
   "execution_count": 8,
   "metadata": {
    "collapsed": true
   },
   "outputs": [],
   "source": [
    "# Se crea un arreglo con colores similares a los de los astros.\n",
    "colores = ['#ffce00','#7e7e7e','#f6ee91','#4682b4','#d2b48c','#f4a460','#eedd82','#afeeee','#87cefa','#d6ae7a']"
   ]
  },
  {
   "cell_type": "code",
   "execution_count": 17,
   "metadata": {
    "collapsed": true
   },
   "outputs": [],
   "source": [
    "# Se genera una grafica 3D de las trayectorias recorridas por los astros. Se modifica el\n",
    "# tamanio de algunas de las orbitas para poder observar mas claramente las 9 orbitas.\n",
    "fig1 = plt.figure(figsize=(12,6))\n",
    "ax11 = fig1.add_subplot(121, projection='3d')\n",
    "ax12 = fig1.add_subplot(122, projection='3d')\n",
    "ax11.set_xlabel(r'$x$ (UA)', size = 9)\n",
    "ax12.set_xlabel(r'$x$ (UA)', size = 9)\n",
    "ax11.set_ylabel(r'$y$ (UA)', size = 9)\n",
    "ax12.set_ylabel(r'$y$ (UA)', size = 9)\n",
    "ax11.set_zlabel(r'$z$ (UA)', size = 9)\n",
    "ax12.set_zlabel(r'$z$ (UA)', size = 9)\n",
    "ax11.set_title(r'Orbitas planetarias del sistema solar', size = 9) \n",
    "ax12.set_title(r'Orbitas de los 4 primeros planetas del sistema solar', size = 9) \n",
    "ax11.tick_params(labelsize = 8)\n",
    "ax12.tick_params(labelsize = 8)\n",
    "for i in range(0,n_astros):\n",
    "    ax11.plot(x[:,i], y[:,i], z[:,i], colores[i], linewidth = 0.008*i**2)    \n",
    "for i in range(0,5):\n",
    "    ax12.plot(x[:,i], y[:,i], z[:,i], colores[i], linewidth = 0.016*i**2)    \n",
    "fig1.savefig('Planetas.jpeg',dpi=300)\n",
    "plt.close()"
   ]
  },
  {
   "cell_type": "code",
   "execution_count": 2,
   "metadata": {},
   "outputs": [
    {
     "name": "stdout",
     "output_type": "stream",
     "text": [
      "420\n"
     ]
    }
   ],
   "source": [
    "print(int(30000*63/75/60))"
   ]
  },
  {
   "cell_type": "code",
   "execution_count": null,
   "metadata": {
    "collapsed": true
   },
   "outputs": [],
   "source": []
  }
 ],
 "metadata": {
  "kernelspec": {
   "display_name": "Python 3",
   "language": "python",
   "name": "python3"
  },
  "language_info": {
   "codemirror_mode": {
    "name": "ipython",
    "version": 3
   },
   "file_extension": ".py",
   "mimetype": "text/x-python",
   "name": "python",
   "nbconvert_exporter": "python",
   "pygments_lexer": "ipython3",
   "version": "3.5.2"
  }
 },
 "nbformat": 4,
 "nbformat_minor": 2
}
