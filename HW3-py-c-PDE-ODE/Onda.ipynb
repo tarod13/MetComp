{
 "cells": [
  {
   "cell_type": "code",
   "execution_count": 2,
   "metadata": {
    "collapsed": true
   },
   "outputs": [],
   "source": [
    "import numpy as np\n",
    "import pylab as plt\n",
    "import matplotlib.animation as ani"
   ]
  },
  {
   "cell_type": "code",
   "execution_count": 17,
   "metadata": {
    "collapsed": true
   },
   "outputs": [],
   "source": [
    "def evaluar_bordes(z):\n",
    "    z[1:n_puntos_x-1,0] = z[1:n_puntos_x-1,1]\n",
    "    z[1:n_puntos_x-1,n_puntos_y-1] = z[1:n_puntos_x-1,n_puntos_y-2]\n",
    "    z[1:x_perturbacion,y_barrera] = z[1:x_perturbacion-1,y_barrera-1]\n",
    "    z[1:x_perturbacion,y_barrera+1] = z[1:x_perturbacion-1,y_barrera+2]\n",
    "    z[x_perturbacion+1:n_puntos_x-1,y_barrera] = z[x_perturbacion+1:n_puntos_x-1,y_barrera-1]\n",
    "    z[x_perturbacion+1:n_puntos_x-1,y_barrera+1] = z[x_perturbacion+1:n_puntos_x-1,y_barrera+2]\n",
    "    z[0,0:n_puntos_y] = z[1,0:n_puntos_y]\n",
    "    z[n_puntos_x-1,0:n_puntos_y] = z[n_puntos_x-2,0:n_puntos_y]\n",
    "    return z"
   ]
  },
  {
   "cell_type": "code",
   "execution_count": null,
   "metadata": {
    "collapsed": true
   },
   "outputs": [],
   "source": [
    "def derivada_inicial(z0):\n",
    "    z1 = np.zeros(z0.shape)\n",
    "    z1[1:N-1] = u0x[1:N-1] + gamma**2/2*(u0x[2:N]-2*u0x[1:N-1]+u0x[0:N-2]) \n",
    "    return u1x"
   ]
  },
  {
   "cell_type": "code",
   "execution_count": 14,
   "metadata": {},
   "outputs": [],
   "source": [
    "n_puntos_x = 301\n",
    "n_puntos_y = 300\n",
    "t_fin = 60\n",
    "profundidad = -2\n",
    "c = 1\n",
    "lado = 30\n",
    "dx = lado/(n_puntos_x-1)\n",
    "dy = lado/(n_puntos_y-1)\n",
    "dt = 0.00001\n",
    "x_perturbacion = np.int16((n_puntos_x-1)/2)\n",
    "y_perturbacion = np.int16(n_puntos_y/3)-1\n",
    "y_barrera = 2*np.int16(n_puntos_y/3)-1"
   ]
  },
  {
   "cell_type": "code",
   "execution_count": null,
   "metadata": {
    "collapsed": true
   },
   "outputs": [],
   "source": [
    "onda = np.zeros((n_puntos_x,n_puntos_y,t_fin))\n",
    "onda[x_perturbacion,y_perturbacion,0] = -0.5"
   ]
  }
 ],
 "metadata": {
  "kernelspec": {
   "display_name": "Python 3",
   "language": "python",
   "name": "python3"
  },
  "language_info": {
   "codemirror_mode": {
    "name": "ipython",
    "version": 3
   },
   "file_extension": ".py",
   "mimetype": "text/x-python",
   "name": "python",
   "nbconvert_exporter": "python",
   "pygments_lexer": "ipython3",
   "version": "3.5.2"
  }
 },
 "nbformat": 4,
 "nbformat_minor": 2
}
