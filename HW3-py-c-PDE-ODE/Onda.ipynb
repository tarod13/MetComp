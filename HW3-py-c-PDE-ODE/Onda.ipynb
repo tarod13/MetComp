{
 "cells": [
  {
   "cell_type": "code",
   "execution_count": 1,
   "metadata": {
    "collapsed": true
   },
   "outputs": [],
   "source": [
    "import numpy as np\n",
    "import pylab as plt\n",
    "import matplotlib.animation as ani"
   ]
  },
  {
   "cell_type": "code",
   "execution_count": 2,
   "metadata": {
    "collapsed": true
   },
   "outputs": [],
   "source": [
    "def evaluar_bordes(z0,z1,z2):\n",
    "    z_bordes = np.copy(z2)\n",
    "  \n",
    "    z_bordes[1:n_puntos_x-1,0] = 2*(1-gamma_x**2-gamma_y**2)*z1[1:n_puntos_x-1,0] \\\n",
    "        + gamma_x**2*(z1[2:n_puntos_x,0]+z1[0:n_puntos_x-2,0]) \\\n",
    "        + 2*gamma_y**2*z1[1:n_puntos_x-1,1] - z0[1:n_puntos_x-1,0]\n",
    "    z_bordes[1:n_puntos_x-1,n_puntos_y-1] = 2*(1-gamma_x**2-gamma_y**2)*z1[1:n_puntos_x-1,n_puntos_y-1] \\\n",
    "        + gamma_x**2*(z1[2:n_puntos_x,n_puntos_y-1]+z1[0:n_puntos_x-2,n_puntos_y-1]) \\\n",
    "        + 2*gamma_y**2*z1[1:n_puntos_x-1,n_puntos_y-2] - z0[1:n_puntos_x-1,n_puntos_y-1]\n",
    "    \n",
    "    z_bordes[1:x_perturbacion-2,y_barrera] = 2*(1-gamma_x**2-gamma_y**2)*z1[1:x_perturbacion-2,y_barrera] \\\n",
    "        + gamma_x**2*(z1[2:x_perturbacion-1,y_barrera]+z1[0:x_perturbacion-3,y_barrera]) \\\n",
    "        + 2*gamma_y**2*z1[1:x_perturbacion-2,y_barrera-1] - z0[1:x_perturbacion-2,y_barrera]\n",
    "    z_bordes[1:x_perturbacion-2,y_barrera+1] = 2*(1-gamma_x**2-gamma_y**2)*z1[1:x_perturbacion-2,y_barrera+1] \\\n",
    "        + gamma_x**2*(z1[2:x_perturbacion-1,y_barrera+1]+z1[0:x_perturbacion-3,y_barrera+1]) \\\n",
    "        + 2*gamma_y**2*z1[1:x_perturbacion-2,y_barrera+2] - z0[1:x_perturbacion-2,y_barrera+1]\n",
    "        \n",
    "    z_bordes[x_perturbacion-2,y_barrera] = 2*(1-gamma_x**2-gamma_y**2)*z1[x_perturbacion-2,y_barrera] \\\n",
    "        + 2*gamma_x**2*z1[x_perturbacion-1,y_barrera] + 2*gamma_y**2*z1[x_perturbacion-2,y_barrera-1] \\\n",
    "        - z0[x_perturbacion-2,y_barrera]\n",
    "    z_bordes[x_perturbacion-2,y_barrera+1] = 2*(1-gamma_x**2-gamma_y**2)*z1[x_perturbacion-2,y_barrera+1] \\\n",
    "        + 2*gamma_x**2*z1[x_perturbacion-1,y_barrera+1] + 2*gamma_y**2*z1[x_perturbacion-2,y_barrera+2] \\\n",
    "        - z0[x_perturbacion-2,y_barrera+1]\n",
    "    z_bordes[x_perturbacion+2,y_barrera] = 2*(1-gamma_x**2-gamma_y**2)*z1[x_perturbacion+2,y_barrera] \\\n",
    "        + 2*gamma_x**2*z1[x_perturbacion+1,y_barrera] + 2*gamma_y**2*z1[x_perturbacion+2,y_barrera-1] \\\n",
    "        - z0[x_perturbacion+2,y_barrera]\n",
    "    z_bordes[x_perturbacion+2,y_barrera+1] = 2*(1-gamma_x**2-gamma_y**2)*z1[x_perturbacion+2,y_barrera+1] \\\n",
    "        + 2*gamma_x**2*z1[x_perturbacion+1,y_barrera+1] + 2*gamma_y**2*z1[x_perturbacion+2,y_barrera+2] \\\n",
    "        - z0[x_perturbacion+2,y_barrera+1]\n",
    "        \n",
    "    z_bordes[x_perturbacion+3:n_puntos_x-1,y_barrera] = \\\n",
    "        2*(1-gamma_x**2-gamma_y**2)*z1[x_perturbacion+3:n_puntos_x-1,y_barrera] \\\n",
    "        + gamma_x**2*(z1[x_perturbacion+4:n_puntos_x,y_barrera]+z1[x_perturbacion+2:n_puntos_x-2,y_barrera]) \\\n",
    "        + 2*gamma_y**2*z1[x_perturbacion+3:n_puntos_x-1,y_barrera-1] - z0[x_perturbacion+3:n_puntos_x-1,y_barrera]\n",
    "    z_bordes[x_perturbacion+3:n_puntos_x-1,y_barrera+1] = \\\n",
    "        2*(1-gamma_x**2-gamma_y**2)*z1[x_perturbacion+3:n_puntos_x-1,y_barrera+1] \\\n",
    "        + gamma_x**2*(z1[x_perturbacion+4:n_puntos_x,y_barrera+1]+z1[x_perturbacion+2:n_puntos_x-2,y_barrera+1]) \\\n",
    "        + 2*gamma_y**2*z1[x_perturbacion+3:n_puntos_x-1,y_barrera+2] - z0[x_perturbacion+3:n_puntos_x-1,y_barrera+1]\n",
    "    \n",
    "    z_bordes[0,1:n_puntos_y-1] = 2*(1-gamma_x**2-gamma_y**2)*z1[0,1:n_puntos_y-1] \\\n",
    "        + gamma_y**2*(z1[0,2:n_puntos_y]+z1[0,0:n_puntos_y-2]) \\\n",
    "        + 2*gamma_x**2*z1[1,1:n_puntos_y-1] - z0[0,1:n_puntos_y-1]\n",
    "    z_bordes[n_puntos_x-1,1:n_puntos_y-1] = 2*(1-gamma_x**2-gamma_y**2)*z1[n_puntos_x-1,1:n_puntos_y-1] \\\n",
    "        + gamma_y**2*(z1[n_puntos_x-1,2:n_puntos_y]+z1[n_puntos_x-1,0:n_puntos_y-2]) \\\n",
    "        + 2*gamma_x**2*z1[n_puntos_x-2,1:n_puntos_y-1] - z0[n_puntos_x-1,1:n_puntos_y-1]   \n",
    "    \n",
    "    return z_bordes"
   ]
  },
  {
   "cell_type": "code",
   "execution_count": 3,
   "metadata": {
    "collapsed": true
   },
   "outputs": [],
   "source": [
    "def evolucion_inicial_onda(z0):\n",
    "    z1 = np.zeros(z0.shape)\n",
    "    z1[1:n_puntos_x-1,1:n_puntos_y-1] = (1-gamma_x**2-gamma_y**2)*z0[1:n_puntos_x-1,1:n_puntos_y-1] \\\n",
    "        + gamma_x**2/2*(z0[2:n_puntos_x,1:n_puntos_y-1]+z0[0:n_puntos_x-2,1:n_puntos_y-1]) \\\n",
    "        + gamma_y**2/2*(z0[1:n_puntos_x-1,2:n_puntos_y]+z0[1:n_puntos_x-1,0:n_puntos_y-2]) \n",
    "    return z1"
   ]
  },
  {
   "cell_type": "code",
   "execution_count": 4,
   "metadata": {
    "collapsed": true
   },
   "outputs": [],
   "source": [
    "def evolucion_onda(z0,z1):\n",
    "    z2 = np.zeros(z0.shape)\n",
    "    z2[1:n_puntos_x-1,1:n_puntos_y-1] = 2*(1-gamma_x**2-gamma_y**2)*z1[1:n_puntos_x-1,1:n_puntos_y-1] \\\n",
    "        + gamma_x**2*(z1[2:n_puntos_x,1:n_puntos_y-1]+z1[0:n_puntos_x-2,1:n_puntos_y-1]) \\\n",
    "        + gamma_y**2*(z1[1:n_puntos_x-1,2:n_puntos_y]+z1[1:n_puntos_x-1,0:n_puntos_y-2]) \\\n",
    "        - z0[1:n_puntos_x-1,1:n_puntos_y-1]   \n",
    "    return z2"
   ]
  },
  {
   "cell_type": "code",
   "execution_count": 5,
   "metadata": {
    "collapsed": true
   },
   "outputs": [],
   "source": [
    "def init():  \n",
    "    z.set_data(onda[:,:,0].T)\n",
    "    return [z] "
   ]
  },
  {
   "cell_type": "code",
   "execution_count": 6,
   "metadata": {
    "collapsed": true
   },
   "outputs": [],
   "source": [
    "def animate(t):  \n",
    "    z.set_data(onda[:,:,t].T)\n",
    "    return [z] "
   ]
  },
  {
   "cell_type": "code",
   "execution_count": 7,
   "metadata": {
    "collapsed": true
   },
   "outputs": [],
   "source": [
    "n_puntos_x = 301\n",
    "n_puntos_y = 300\n",
    "n_puntos_t = 2000\n",
    "n_pasos = 10000\n",
    "t_fin = 60\n",
    "profundidad = -2\n",
    "c = 1\n",
    "lado = 30\n",
    "dx = lado/(n_puntos_x-1)\n",
    "dy = lado/(n_puntos_y-1)\n",
    "dt = t_fin/n_pasos\n",
    "gamma_x = c*dt/dx\n",
    "gamma_y = c*dt/dy\n",
    "x_perturbacion = np.int64((n_puntos_x-1)/2)\n",
    "y_perturbacion = np.int64(n_puntos_y/3)-1\n",
    "y_barrera = 2*np.int64(n_puntos_y/3)-1"
   ]
  },
  {
   "cell_type": "code",
   "execution_count": 8,
   "metadata": {
    "collapsed": true
   },
   "outputs": [],
   "source": [
    "x = np.linspace(0,lado,n_puntos_x)\n",
    "y = np.linspace(0,lado,n_puntos_y)\n",
    "xgrid, ygrid = np.meshgrid(x,y)"
   ]
  },
  {
   "cell_type": "code",
   "execution_count": 9,
   "metadata": {},
   "outputs": [],
   "source": [
    "onda = np.zeros((n_puntos_x,n_puntos_y,n_puntos_t+2))\n",
    "onda_temp = np.zeros((n_puntos_x,n_puntos_y,3))\n",
    "onda[x_perturbacion,y_perturbacion,0] = -0.5\n",
    "onda[:,:,1] = evolucion_inicial_onda(onda[:,:,0])\n",
    "onda_temp[:,:,0] = np.copy(onda[:,:,0])\n",
    "onda_temp[:,:,1] = np.copy(onda[:,:,1])"
   ]
  },
  {
   "cell_type": "code",
   "execution_count": 10,
   "metadata": {},
   "outputs": [],
   "source": [
    "t_guardado = 2\n",
    "fondo = np.ones((n_puntos_x,n_puntos_y))*profundidad\n",
    "for t in range(2,n_pasos):\n",
    "    tmod0 = (t-2)%3\n",
    "    tmod1 = (t-1)%3\n",
    "    tmod2 = t%3\n",
    "    onda_temp[:,:,tmod2] = evolucion_onda(onda_temp[:,:,tmod0],onda_temp[:,:,tmod1])\n",
    "    onda_temp[:,:,tmod2] = evaluar_bordes(onda_temp[:,:,tmod0],onda_temp[:,:,tmod1],onda_temp[:,:,tmod2])\n",
    "    onda_temp[:,:,tmod2] = np.where(onda_temp[:,:,tmod2]>profundidad,onda_temp[:,:,tmod2],fondo)\n",
    "    if(t%np.int64(n_pasos/n_puntos_t) == 0):\n",
    "        onda[:,:,t_guardado] = onda_temp[:,:,tmod2]\n",
    "        t_guardado += 1"
   ]
  },
  {
   "cell_type": "code",
   "execution_count": 11,
   "metadata": {},
   "outputs": [],
   "source": [
    "#color_map = plt.cm.viridis         # Se define la escala de colores\n",
    "#color_map = plt.cm.nipy_spectral\n",
    "color_map = plt.cm.hot\n",
    "#color_map = plt.cm.inferno\n",
    "fig1, ax1 = plt.subplots()\n",
    "im1 = ax1.imshow(onda[:,:,np.int64(n_puntos_t/2)].T, cmap=color_map, extent=[0,30,30,0])\n",
    "fig1.colorbar(im1, label = r'$\\Phi(x,y,t)$')\n",
    "# Se ajustan los ejes para que tengan el mismo tamanyo\n",
    "fig1.gca().set_aspect('equal', adjustable='box')\n",
    "ax1.set_xlabel(r'$x$', size = 9)                    \n",
    "ax1.set_ylabel(r'$y$', size = 9)                    \n",
    "fig1.savefig('Onda30.jpeg',dpi=180)\n",
    "plt.close()"
   ]
  },
  {
   "cell_type": "code",
   "execution_count": 12,
   "metadata": {
    "collapsed": true
   },
   "outputs": [],
   "source": [
    "fig2, ax2 = plt.subplots()\n",
    "im2 = ax2.imshow(onda[:,:,n_puntos_t].T, cmap=color_map, extent=[0,30,30,0])\n",
    "fig2.colorbar(im2, label = r'$\\Phi(x,y,t)$')\n",
    "fig2.gca().set_aspect('equal', adjustable='box')\n",
    "ax2.set_xlabel(r'$x$', size = 9)                    \n",
    "ax2.set_ylabel(r'$y$', size = 9)                    \n",
    "fig2.savefig('Onda60.jpeg',dpi=180)\n",
    "plt.close()"
   ]
  },
  {
   "cell_type": "code",
   "execution_count": 13,
   "metadata": {},
   "outputs": [
    {
     "name": "stdout",
     "output_type": "stream",
     "text": [
      "Guardando animacion.. (Puede tardar un par de minutos)\n",
      "Proceso terminado\n"
     ]
    }
   ],
   "source": [
    "fig3 = plt.figure()\n",
    "ax3 = plt.axes(xlim=(0, 30), ylim=(30, 0))\n",
    "ax3.set_xlabel(r'$x$', size = 9)\n",
    "ax3.set_ylabel(r'$y$', size = 9)\n",
    "ax3.set_title(r'Simulacion de propagacion de onda', size = 11)\n",
    "ax3.tick_params(labelsize = 9)\n",
    "z = ax3.imshow(onda[:,:,n_puntos_t-5].T, cmap=color_map, extent=[0,30,30,0])\n",
    "fig3.colorbar(z, label = r'$\\Phi(x,y,t)$')\n",
    "animacion_onda = ani.FuncAnimation(fig3, animate, init_func=init,\n",
    "                               frames=onda.shape[2], interval=50, blit=True)\n",
    "print(\"Guardando animacion.. (Puede tardar un par de minutos)\")\n",
    "animacion_onda.save('Onda.mp4')\n",
    "plt.close()\n",
    "print(\"Proceso terminado\")"
   ]
  },
  {
   "cell_type": "code",
   "execution_count": null,
   "metadata": {
    "collapsed": true
   },
   "outputs": [],
   "source": []
  }
 ],
 "metadata": {
  "kernelspec": {
   "display_name": "Python 3",
   "language": "python",
   "name": "python3"
  },
  "language_info": {
   "codemirror_mode": {
    "name": "ipython",
    "version": 3
   },
   "file_extension": ".py",
   "mimetype": "text/x-python",
   "name": "python",
   "nbconvert_exporter": "python",
   "pygments_lexer": "ipython3",
   "version": "3.5.2"
  }
 },
 "nbformat": 4,
 "nbformat_minor": 2
}
