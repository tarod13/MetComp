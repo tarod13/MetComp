{
 "cells": [
  {
   "cell_type": "code",
   "execution_count": 1,
   "metadata": {
    "collapsed": true
   },
   "outputs": [],
   "source": [
    "import numpy as np\n",
    "import pylab as plt\n",
    "from mpl_toolkits.mplot3d import Axes3D"
   ]
  },
  {
   "cell_type": "code",
   "execution_count": 2,
   "metadata": {
    "collapsed": true
   },
   "outputs": [],
   "source": [
    "def euler(trayectoria, t, dt):\n",
    "    for i in range(0,4):\n",
    "        if i < 2:\n",
    "            trayectoria[t,i] = trayectoria[t-1,i] + dt*trayectoria[t-1,i+2]\n",
    "        else:\n",
    "            trayectoria[t,i] = trayectoria[t-1,i] + dt*g[i-2]\n",
    "    return trayectoria"
   ]
  },
  {
   "cell_type": "code",
   "execution_count": 3,
   "metadata": {},
   "outputs": [],
   "source": [
    "def leap_frog(trayectoria, tmin, dt):\n",
    "    f = [False, False]\n",
    "    for t in range(tmin,n_pasos):\n",
    "        for i in range(0,4):\n",
    "            if i < 2:\n",
    "                pos = trayectoria[t-2,i] + 2*dt*trayectoria[t-1,i+2]\n",
    "                if pos >= 0:\n",
    "                    trayectoria[t,i] = np.copy(pos)\n",
    "                else:\n",
    "                    trayectoria[t,i] = 0.0\n",
    "                    f[i] = True\n",
    "            else:\n",
    "                if f[i-2]:\n",
    "                    trayectoria[t-1,i] = -0.8*trayectoria[t-1,i]\n",
    "                    trayectoria[t,i] = trayectoria[t-1,i] + dt*g[i-2]\n",
    "                    f[i-2] = False\n",
    "                else:\n",
    "                    trayectoria[t,i] = trayectoria[t-2,i] + 2*dt*g[i-2]\n",
    "    return trayectoria"
   ]
  },
  {
   "cell_type": "code",
   "execution_count": 4,
   "metadata": {
    "collapsed": true
   },
   "outputs": [],
   "source": [
    "g = np.array([0, -9.81])\n",
    "x0 = 0\n",
    "y0 = 0\n",
    "vx0 = 0\n",
    "vy0 = 5\n",
    "m = 0.5\n",
    "tfin = 5\n",
    "n_pasos = 40000\n",
    "dx = 0.01\n",
    "dy = 0.0001\n",
    "x_inf = -0.1\n",
    "x_sup = 0.1\n",
    "y_inf = 0\n",
    "y_sup = 10"
   ]
  },
  {
   "cell_type": "code",
   "execution_count": 5,
   "metadata": {},
   "outputs": [],
   "source": [
    "trayectoria = np.zeros((n_pasos,4))\n",
    "trayectoria[0,0] = x0\n",
    "trayectoria[0,1] = y0\n",
    "trayectoria[0,2] = vx0\n",
    "trayectoria[0,3] = vy0"
   ]
  },
  {
   "cell_type": "code",
   "execution_count": 6,
   "metadata": {},
   "outputs": [],
   "source": [
    "dt = tfin/n_pasos\n",
    "trayectoria = euler(trayectoria,1,dt)\n",
    "trayectoria = leap_frog(trayectoria,2,dt)"
   ]
  },
  {
   "cell_type": "code",
   "execution_count": 7,
   "metadata": {
    "collapsed": true
   },
   "outputs": [],
   "source": [
    "t = np.linspace(0,tfin,n_pasos)\n",
    "fig1 = plt.figure()\n",
    "ax1 = plt.subplot(111,projection='3d')\n",
    "ax1.plot(t,trayectoria[:,0],trayectoria[:,1],'r')\n",
    "ax1.set_xlabel(r'$t$',size = 9)\n",
    "ax1.set_ylabel(r'$x$',size = 9)\n",
    "ax1.set_zlabel(r'$y$',size = 9)\n",
    "ax1.tick_params(labelsize=7)\n",
    "fig1.savefig('posBalon.pdf',dpi=200)\n",
    "plt.close()"
   ]
  },
  {
   "cell_type": "code",
   "execution_count": 8,
   "metadata": {
    "collapsed": true
   },
   "outputs": [],
   "source": [
    "fig2 = plt.figure()\n",
    "ax2 = plt.subplot(111,projection='3d')\n",
    "ax2.plot(t,trayectoria[:,2],trayectoria[:,3],'b')\n",
    "ax2.set_xlabel(r'$t$',size = 9)\n",
    "ax2.set_ylabel(r'$v_x$',size = 9)\n",
    "ax2.set_zlabel(r'$v_y$',size = 9)\n",
    "ax1.tick_params(labelsize=6)\n",
    "fig2.savefig('velBalon.pdf',dpi=200)\n",
    "plt.close()"
   ]
  },
  {
   "cell_type": "code",
   "execution_count": 9,
   "metadata": {},
   "outputs": [
    {
     "name": "stdout",
     "output_type": "stream",
     "text": [
      "la altura máxima alcanzada es 1.27 metros\n",
      "el tiempo que el balon permanece en el aire es: es 1.00 segundos\n"
     ]
    }
   ],
   "source": [
    "h_max = trayectoria[:,1].max()\n",
    "t_duracion = 1\n",
    "print(\"la altura máxima alcanzada es %.2f metros\" % h_max)\n",
    "print(\"el tiempo que el balon permanece en el aire es: es %.2f segundos\" % t_duracion)"
   ]
  },
  {
   "cell_type": "code",
   "execution_count": null,
   "metadata": {
    "collapsed": true
   },
   "outputs": [],
   "source": []
  }
 ],
 "metadata": {
  "kernelspec": {
   "display_name": "Python 3",
   "language": "python",
   "name": "python3"
  },
  "language_info": {
   "codemirror_mode": {
    "name": "ipython",
    "version": 3
   },
   "file_extension": ".py",
   "mimetype": "text/x-python",
   "name": "python",
   "nbconvert_exporter": "python",
   "pygments_lexer": "ipython3",
   "version": "3.5.2"
  }
 },
 "nbformat": 4,
 "nbformat_minor": 2
}
