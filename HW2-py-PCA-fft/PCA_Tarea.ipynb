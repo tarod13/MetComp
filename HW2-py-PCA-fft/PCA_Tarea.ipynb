{
 "cells": [
  {
   "cell_type": "code",
   "execution_count": 1,
   "metadata": {
    "collapsed": true
   },
   "outputs": [],
   "source": [
    "# Se importan las librerias necesarias\n",
    "import numpy as np\n",
    "import pylab as plt\n",
    "import pandas as pd\n",
    "import numpy.linalg as lin"
   ]
  },
  {
   "cell_type": "code",
   "execution_count": 2,
   "metadata": {
    "collapsed": true
   },
   "outputs": [],
   "source": [
    "# Funcion que calcula el valor medio de una muestra, suponiendo que cada dato\n",
    "# corresponde a un vector columna\n",
    "# Parametros: muestra - matriz\n",
    "# Salidas: media muestral como vector columna \n",
    "def media_muestral(muestra):\n",
    "    suma = np.transpose(np.array([np.sum(muestra,axis=1)]))\n",
    "    return suma/muestra.shape[1] "
   ]
  },
  {
   "cell_type": "code",
   "execution_count": 3,
   "metadata": {
    "collapsed": true
   },
   "outputs": [],
   "source": [
    "# Funcion que calcula la desviacion estandar de una muestra, suponiendo que cada dato\n",
    "# corresponde a un vector columna\n",
    "# Parametros: muestra - matriz\n",
    "# Salidas: desviacion estandar como vector columna \n",
    "def desviacion_estandar(muestra):\n",
    "    cuadrados = (muestra-media_muestral(muestra))**2\n",
    "    suma = np.transpose(np.array([np.sum(cuadrados,axis=1)]))\n",
    "    return np.sqrt(suma)/muestra.shape[1]"
   ]
  },
  {
   "cell_type": "code",
   "execution_count": 4,
   "metadata": {
    "collapsed": true
   },
   "outputs": [],
   "source": [
    "# Funcion que calcula la matriz de covarianza de una muestra de vectores,\n",
    "# tal que se asume que cada vector está normalizado y que corresponde a \n",
    "# una columna de la matriz recibida. Para el calculo se suman los productos\n",
    "# punto de los vectores columna con su transpuesta y despues se divide sobre\n",
    "# la cantidad total de vectores menos 1\n",
    "# Parametros: muestra - matriz cuyas columnas son vectores normalizados\n",
    "# Salidas: matriz de covarianza muestral\n",
    "def covarianza_muestral(muestra):\n",
    "    suma = np.zeros([muestra.shape[0],muestra.shape[0]])\n",
    "    for i in range(0,muestra.shape[1]):\n",
    "        columna = np.transpose(np.array([muestra[:,i]]))\n",
    "        suma = suma + np.dot(columna,np.transpose(columna))        \n",
    "    return suma/(muestra.shape[1]-1)   "
   ]
  },
  {
   "cell_type": "code",
   "execution_count": 5,
   "metadata": {
    "collapsed": true
   },
   "outputs": [],
   "source": [
    "# Se lee el archivo con los datos a partir de la funcion read_csv\n",
    "# de pandas, que es después convertido a una matriz de numpy\n",
    "datosBM = pd.read_csv('DatosBancoMundial5.csv').as_matrix()\n",
    "datosBM = np.float64(datosBM[:,4:])"
   ]
  },
  {
   "cell_type": "code",
   "execution_count": 6,
   "metadata": {},
   "outputs": [],
   "source": [
    "# Se normalizan los datos restando la media y dividiendo sobre la varianza \n",
    "# de cada variable\n",
    "media = media_muestral(datosBM)\n",
    "desviacion = desviacion_estandar(datosBM)\n",
    "datosBM_normalizados = (datosBM - media)/desviacion"
   ]
  },
  {
   "cell_type": "code",
   "execution_count": 7,
   "metadata": {},
   "outputs": [],
   "source": [
    "# Se grafica cada variable contra la region o el grupo correspondiente\n",
    "fig1, ax1 = plt.subplots(nrows = 5)\n",
    "for i in range(0,5):\n",
    "    ax1[i].plot(datosBM_normalizados[i,:], linewidth = 0.4)\n",
    "    ax1[i].grid(linestyle = '--', linewidth = 0.3)\n",
    "    ax1[i].tick_params(labelsize=4)\n",
    "ax1[0].set_ylabel(r'Tasa de impuestos', fontsize=3)\n",
    "ax1[1].set_ylabel(r'Costo start-up', fontsize=3)\n",
    "ax1[2].set_ylabel(r'Desempleo femenino', fontsize=3)\n",
    "ax1[3].set_ylabel(r'Desempleo masculino', fontsize=3)\n",
    "ax1[4].set_ylabel(r'Razón hombres/mujeres,'\"\\n\" r'trabajando', fontsize=3)\n",
    "fig1.savefig('ExploracionDatos.pdf')\n",
    "plt.close()"
   ]
  },
  {
   "cell_type": "code",
   "execution_count": 8,
   "metadata": {
    "collapsed": true
   },
   "outputs": [],
   "source": [
    "# Se calcula la matriz de covarianza\n",
    "matriz_covarianza = covarianza_muestral(datosBM_normalizados)"
   ]
  },
  {
   "cell_type": "code",
   "execution_count": 9,
   "metadata": {
    "collapsed": true
   },
   "outputs": [],
   "source": [
    "# Se hallan las componentes principales por medio de la funcion eig de la \n",
    "# libreria numpy.linalg y se imprime en la terminal las dos primeras\n",
    "[val_propios,vec_propios] = lin.eig(matriz_covarianza)\n",
    "cp1 = vec_propios[:,0]\n",
    "cp2 = vec_propios[:,1]\n",
    "val1 = val_propios[0]\n",
    "val2 = val_propios[1]"
   ]
  },
  {
   "cell_type": "code",
   "execution_count": 10,
   "metadata": {},
   "outputs": [
    {
     "name": "stdout",
     "output_type": "stream",
     "text": [
      "el componente principal es: [0.028; 0.037; 0.689; 0.635; -0.346], el segundo componente principal es: [0.702; 0.708; -0.006; -0.031; 0.064]\n"
     ]
    }
   ],
   "source": [
    "print('el componente principal es: [%.3f' % cp1[0], end=\"\")\n",
    "for i in range(1,5):\n",
    "    print('; %.3f' % cp1[i], end=\"\")\n",
    "print('], el segundo componente principal es: [%.3f' % cp2[0], end=\"\")\n",
    "for i in range(1,5):\n",
    "    print('; %.3f' % cp2[i], end=\"\")\n",
    "print(']')"
   ]
  },
  {
   "cell_type": "code",
   "execution_count": 11,
   "metadata": {
    "collapsed": true
   },
   "outputs": [],
   "source": [
    "# Se proyectan los datos sobre las dos componentes principales por medio del\n",
    "# producto punto entre los datos y las componentes. Esto debido a que el producto\n",
    "# punto con un vector unitario es equivalente a la proyeccion sobre este.\n",
    "base = np.array([cp1,cp2])\n",
    "datosBM_proyectados = np.dot(base,datosBM_normalizados)"
   ]
  },
  {
   "cell_type": "code",
   "execution_count": 12,
   "metadata": {
    "collapsed": true
   },
   "outputs": [],
   "source": [
    "# Se grafican los datos proyectados, teniendo como eje x al componente principal\n",
    "# y como eje y al segundo\n",
    "fig2, ax2 = plt.subplots()\n",
    "ax2.scatter(datosBM_proyectados[0,:], datosBM_proyectados[1,:], s=2, c='g')\n",
    "ax2.grid(linestyle = '--', linewidth = 0.4)\n",
    "ax2.tick_params(labelsize=8)\n",
    "ax2.set_xlabel(r'Primera componente principal', fontsize=8)\n",
    "ax2.set_ylabel(r'Segunda componente principal', fontsize=8)\n",
    "fig2.savefig('PCAdatos.pdf')\n",
    "plt.close()"
   ]
  },
  {
   "cell_type": "code",
   "execution_count": 13,
   "metadata": {
    "collapsed": true
   },
   "outputs": [],
   "source": [
    "# Se grafican las variables originales en el sistema de referencia de los dos primeros\n",
    "# componentes principales, teniendo en cuenta que estas variables corresponden a los 5\n",
    "# ejes originales, y por tanto su proyeccion corresponde a las entradas de las\n",
    "# componentes principales\n",
    "fig3, ax3 = plt.subplots()\n",
    "cmap = ['blue', 'red', 'green', 'yellow', 'black']\n",
    "etiquetas = [(\"Variable \"+str(i+1)) for i in range(0,5)]\n",
    "variables = ['1', '2', '3', '4', '5']\n",
    "p = []\n",
    "for var in range(0,5):\n",
    "    q, = ax3.plot(cp1[var], cp2[var], color = cmap[var], marker = 'o', markersize = 10, label=etiquetas[var])\n",
    "    p.append(q)\n",
    "ax3.grid(linestyle = '--', linewidth = 0.8)\n",
    "ax3.tick_params(labelsize=8)\n",
    "ax3.set_xlabel(r'Primera componente principal', fontsize=8)\n",
    "ax3.set_ylabel(r'Segunda componente principal', fontsize=8)\n",
    "plt.legend(handles = p)\n",
    "fig3.savefig('PCAvariables.pdf')\n",
    "plt.close()"
   ]
  },
  {
   "cell_type": "code",
   "execution_count": 14,
   "metadata": {},
   "outputs": [
    {
     "name": "stdout",
     "output_type": "stream",
     "text": [
      "las variables que están correlacionadas son:\n",
      "1.Impuestos y 2.Costos de start-up; y\n",
      "3.Desempleo femenino y 4.Desempleo masculino\n"
     ]
    }
   ],
   "source": [
    "# Se imprimen los grupos correlacionados\n",
    "print(\"las variables que están correlacionadas son:\")\n",
    "print(\"1.Impuestos y 2.Costos de start-up; y\")\n",
    "print(\"3.Desempleo femenino y 4.Desempleo masculino\")"
   ]
  },
  {
   "cell_type": "code",
   "execution_count": 15,
   "metadata": {
    "collapsed": true
   },
   "outputs": [],
   "source": [
    "fig4, ax4 = plt.subplots()\n",
    "ax4.scatter(datosBM_normalizados[0,:],datosBM_normalizados[1,:], s = 0.5)\n",
    "ax4.grid(linestyle = '--', linewidth = 0.5)\n",
    "ax4.tick_params(labelsize=5)\n",
    "fig4.savefig('ExploracionDatos2.pdf')\n",
    "plt.close()"
   ]
  },
  {
   "cell_type": "code",
   "execution_count": 16,
   "metadata": {
    "collapsed": true
   },
   "outputs": [],
   "source": [
    "# Se grafica cada variable contra la region o el grupo correspondiente\n",
    "#fig4, ax4 = plt.subplots(4,4)\n",
    "#for i in range(0,4):\n",
    "#    for j in range(1,5):\n",
    "#        if(j>i):\n",
    "#            ax4[j-1,i].scatter(datosBM_normalizados[i,:],datosBM_normalizados[j,:], s = 0.25)\n",
    "#        ax4[j-1,i].grid(linestyle = '--', linewidth = 0.3)\n",
    "#        ax4[j-1,i].tick_params(labelsize=3)\n",
    "#fig4.savefig('ExploracionDatos2.pdf')\n",
    "#plt.close()"
   ]
  }
 ],
 "metadata": {
  "kernelspec": {
   "display_name": "Python 3",
   "language": "python",
   "name": "python3"
  },
  "language_info": {
   "codemirror_mode": {
    "name": "ipython",
    "version": 3
   },
   "file_extension": ".py",
   "mimetype": "text/x-python",
   "name": "python",
   "nbconvert_exporter": "python",
   "pygments_lexer": "ipython3",
   "version": "3.5.2"
  }
 },
 "nbformat": 4,
 "nbformat_minor": 2
}
