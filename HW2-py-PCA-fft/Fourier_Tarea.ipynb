{
 "cells": [
  {
   "cell_type": "code",
   "execution_count": 1,
   "metadata": {
    "collapsed": true
   },
   "outputs": [],
   "source": [
    "# Se importan las librerias necesarias\n",
    "import numpy as np\n",
    "import pylab as plt\n",
    "import scipy.io.wavfile as wav"
   ]
  },
  {
   "cell_type": "code",
   "execution_count": 2,
   "metadata": {
    "collapsed": true
   },
   "outputs": [],
   "source": [
    "def funcion_Z(exponente,N_puntos,signo):\n",
    "    return np.exp(-np.sign(signo)*2*np.pi*1j*exponente/N_puntos)"
   ]
  },
  {
   "cell_type": "code",
   "execution_count": 3,
   "metadata": {
    "collapsed": true
   },
   "outputs": [],
   "source": [
    "def inversion_de_bits(secuencia,potencia):\n",
    "    secuencia_invertida = []\n",
    "    for numero in secuencia:\n",
    "        numero_invertido = 0\n",
    "        for posicion in range(0,potencia):\n",
    "            mascara = 2**posicion\n",
    "            numero_invertido = numero_invertido + bool(numero & mascara)*2**(potencia-1-posicion)\n",
    "        secuencia_invertida.append(numero_invertido)\n",
    "    return np.array(secuencia_invertida)"
   ]
  },
  {
   "cell_type": "code",
   "execution_count": 4,
   "metadata": {
    "collapsed": true
   },
   "outputs": [],
   "source": [
    "def secuencia_potencia_de_2(secuencia):\n",
    "    N = secuencia.shape[0]\n",
    "    potencia_max = np.int64(np.ceil(np.log(N)/np.log(2.0)))\n",
    "    secuencia_pot2 = np.copy(secuencia)\t\n",
    "    diferencia_pot2 = 2**potencia_max - N\n",
    "    ceros_adicionales = np.zeros(diferencia_pot2)\n",
    "    secuencia_pot2 = np.concatenate((secuencia_pot2,ceros_adicionales))\n",
    "    return(secuencia_pot2,potencia_max)"
   ]
  },
  {
   "cell_type": "code",
   "execution_count": 5,
   "metadata": {
    "collapsed": true
   },
   "outputs": [],
   "source": [
    "def fft_parcial(grupo1,grupo2,Z,potencia_max,etapa):\n",
    "    indices_base_original = np.linspace(0,2**etapa-1,2**etapa)\n",
    "    indices_base_potencia_max = 2**(potencia_max-(etapa+1))*indices_base_original\n",
    "    Z_N_etapa = Z[np.int64(indices_base_potencia_max)]\n",
    "    salida1 = grupo1 + grupo2*Z_N_etapa\n",
    "    salida2 = grupo1 - grupo2*Z_N_etapa\n",
    "    salida = np.concatenate((salida1,salida2))\n",
    "    return salida"
   ]
  },
  {
   "cell_type": "code",
   "execution_count": 6,
   "metadata": {
    "collapsed": true
   },
   "outputs": [],
   "source": [
    "def radix2_fft(secuencia,signo):\n",
    "    secuencia_pot2, potencia_max = secuencia_potencia_de_2(secuencia)\n",
    "    N = secuencia_pot2.shape[0]\n",
    "    indices = np.int64(np.linspace(0,N-1,N))\n",
    "    indices_invertidos = inversion_de_bits(indices,potencia_max)\n",
    "    tf_secuencia = np.complex64(secuencia_pot2[indices_invertidos])\n",
    "    Z = funcion_Z(np.int64(np.linspace(0,(N/2)-1,np.int64(N/2))),N,signo)\n",
    "    for etapa in range(0,potencia_max):\n",
    "        N_grupos = 2**(potencia_max-etapa-1)\n",
    "        N_elementos_grupo = np.int64(N/N_grupos)\n",
    "        for n_grupo in range(0,N_grupos):\n",
    "            id_inf = N_elementos_grupo*n_grupo\n",
    "            id_sup = N_elementos_grupo*(n_grupo+1)\n",
    "            grupo = tf_secuencia[id_inf:id_sup]\n",
    "            subgrupo1 = grupo[0:np.int64(N_elementos_grupo/2)]\n",
    "            subgrupo2 = grupo[np.int64(N_elementos_grupo/2):N_elementos_grupo]            \n",
    "            tf_secuencia[id_inf:id_sup] = fft_parcial(subgrupo1,subgrupo2,Z,potencia_max,etapa)\n",
    "    if signo > 0:\n",
    "        return tf_secuencia\n",
    "    else:\n",
    "        return tf_secuencia/N"
   ]
  },
  {
   "cell_type": "code",
   "execution_count": 7,
   "metadata": {
    "collapsed": true
   },
   "outputs": [],
   "source": [
    "def filtro_amplitud_maxima(secuencia,radio):\n",
    "    N = secuencia.shape[0]\n",
    "    indice_max = np.argmax(np.absolute(secuencia)**2)\n",
    "    indice_max_2 = np.int64(N - indice_max)\n",
    "    secuencia_filtrada = np.copy(secuencia)\n",
    "    secuencia_filtrada[indice_max-radio:indice_max+radio+1] = np.complex64(np.zeros(2*radio+1))   \n",
    "    secuencia_filtrada[indice_max_2-radio:indice_max_2+radio+1] = np.complex64(np.zeros(2*radio+1))    \n",
    "    return secuencia_filtrada"
   ]
  },
  {
   "cell_type": "code",
   "execution_count": 8,
   "metadata": {
    "collapsed": true
   },
   "outputs": [],
   "source": [
    "def filtro_pasabajas(secuencia,frecuencias,f_corte):\n",
    "    N = secuencia.shape[0]\n",
    "    secuencia_filtrada = np.copy(secuencia)\n",
    "    for i in range(0,N):\n",
    "        if np.absolute(frecuencias[i]) > f_corte:\n",
    "            secuencia_filtrada[i] = 0.0 + 0.0*1j\n",
    "    return secuencia_filtrada"
   ]
  },
  {
   "cell_type": "code",
   "execution_count": 9,
   "metadata": {
    "collapsed": true
   },
   "outputs": [],
   "source": [
    "# Se leen los archivos de audio, guardando su tasa de muestreo fs y la señal de audio\n",
    "fs_do, do, = wav.read(\"Do.wav\")\n",
    "fs_sol, sol,  = wav.read(\"Sol.wav\")\n",
    "N_do = np.int64(do.shape[0])\n",
    "N_sol = np.int64(do.shape[0])"
   ]
  },
  {
   "cell_type": "code",
   "execution_count": 10,
   "metadata": {
    "collapsed": true
   },
   "outputs": [],
   "source": [
    "do_tf = radix2_fft(do,1)\n",
    "N_do_tf = do_tf.shape[0]\n",
    "do_tf_shift = np.concatenate((do_tf[np.int64(N_do_tf/2):N_do_tf],do_tf[0:np.int64(N_do_tf/2)]))\n",
    "do_tf_frec = np.linspace(-N_do_tf/2,N_do_tf/2-1,np.int64(N_do_tf))*fs_do/N_do_tf\n",
    "sol_tf = radix2_fft(sol,1)\n",
    "N_sol_tf = sol_tf.shape[0]\n",
    "sol_tf_shift = np.concatenate((sol_tf[np.int64(N_sol_tf/2):N_sol_tf],sol_tf[0:np.int64(N_sol_tf/2)]))\n",
    "sol_tf_frec = np.linspace(-N_sol_tf/2,N_sol_tf/2-1,np.int64(N_sol_tf))*fs_sol/N_sol_tf"
   ]
  },
  {
   "cell_type": "code",
   "execution_count": 11,
   "metadata": {
    "collapsed": true
   },
   "outputs": [],
   "source": [
    "radio_filtrado = 80\n",
    "frecuencia_corte = 1000\n",
    "do_tf_amax = filtro_amplitud_maxima(do_tf,radio_filtrado)\n",
    "do_tf_amax_shift = np.concatenate((do_tf_amax[np.int64(N_do_tf/2):N_do_tf],do_tf_amax[0:np.int64(N_do_tf/2)]))\n",
    "do_tf_frec_shift = np.concatenate((do_tf_frec[np.int64(N_do_tf/2):N_do_tf],do_tf_frec[0:np.int64(N_do_tf/2)]))\n",
    "do_tf_pb = filtro_pasabajas(do_tf,do_tf_frec_shift,frecuencia_corte)\n",
    "do_tf_pb_shift = np.concatenate((do_tf_pb[np.int64(N_do_tf/2):N_do_tf],do_tf_pb[0:np.int64(N_do_tf/2)]))"
   ]
  },
  {
   "cell_type": "code",
   "execution_count": 12,
   "metadata": {
    "collapsed": true
   },
   "outputs": [],
   "source": [
    "fig1, ax1 = plt.subplots(nrows = 3)\n",
    "ax1[0].plot(do_tf_frec,np.absolute(do_tf_shift)**2,'r',linewidth=1)\n",
    "ax1[1].plot(do_tf_frec,np.absolute(do_tf_amax_shift)**2,'violet',linewidth=1)\n",
    "ax1[2].plot(do_tf_frec,np.absolute(do_tf_pb_shift)**2,'b',linewidth=1)\n",
    "ax1[0].set_ylabel(r'|Transformada nota Do|$^2$',size=5)\n",
    "ax1[1].set_ylabel(r'|Transformada nota Do''\\n' r'sin máximo|$^2$',size=5)\n",
    "ax1[2].set_ylabel(r'|Transformada nota Do''\\n' r'con filtro pasabajas|$^2$',size=5)\n",
    "ax1[2].set_xlabel(r'Frecuencia (Hz)',size=6)\n",
    "plt.setp(ax1[0].get_xticklabels(), visible=False)\n",
    "plt.setp(ax1[1].get_xticklabels(), visible=False)\n",
    "for i in range(0,3):\n",
    "    ax1[i].set_xlim(-4000,4000)\n",
    "    ax1[i].tick_params(labelsize=6)\n",
    "    tx = ax1[i].yaxis.get_offset_text()\n",
    "    tx.set_fontsize(6)\n",
    "fig1.savefig('DoFiltros.pdf')\n",
    "plt.close()"
   ]
  },
  {
   "cell_type": "code",
   "execution_count": 13,
   "metadata": {
    "collapsed": true
   },
   "outputs": [],
   "source": [
    "f_fundamental_do = 260\n",
    "f_fundamental_sol = 391\n",
    "fs_doSol = fs_do*f_fundamental_sol/f_fundamental_do\n",
    "doSol_tf_frec = np.linspace(-N_do_tf/2,N_do_tf/2-1,np.int64(N_do_tf))*fs_doSol/N_do_tf"
   ]
  },
  {
   "cell_type": "code",
   "execution_count": 14,
   "metadata": {
    "collapsed": true
   },
   "outputs": [],
   "source": [
    "fig2, ax2 = plt.subplots(nrows = 2)\n",
    "ax2[0].plot(doSol_tf_frec,np.absolute(do_tf_shift)**2,'r',linewidth=1)\n",
    "ax2[1].plot(sol_tf_frec,np.absolute(sol_tf_shift)**2,'b',linewidth=1)\n",
    "ax2[0].set_ylabel(r'|Transformada nota Do''\\n' r'con frecuencia artificial|$^2$',size=6)\n",
    "ax2[1].set_ylabel(r'|Transformada nota Sol|$^2$',size=6)\n",
    "ax2[1].set_xlabel(r'Frecuencia (Hz)',size=7)\n",
    "plt.setp(ax2[0].get_xticklabels(), visible=False)\n",
    "for i in range(0,2):\n",
    "    ax2[i].set_xlim(-4000,4000)\n",
    "    ax2[i].tick_params(labelsize=6)\n",
    "    tx = ax2[i].yaxis.get_offset_text()\n",
    "    tx.set_fontsize(6)\n",
    "fig2.savefig('DoSol.pdf')\n",
    "plt.close()"
   ]
  },
  {
   "cell_type": "code",
   "execution_count": 15,
   "metadata": {
    "collapsed": true
   },
   "outputs": [],
   "source": [
    "do_amax = np.real(radix2_fft(do_tf_amax,-1))[0:N_do]\n",
    "do_pb = np.real(radix2_fft(do_tf_pb,-1))[0:N_do]\n",
    "dosol = np.real(radix2_fft(do_tf,-1))[0:N_do]"
   ]
  },
  {
   "cell_type": "code",
   "execution_count": 16,
   "metadata": {
    "collapsed": true
   },
   "outputs": [],
   "source": [
    "do_amax_test = np.real(np.fft.ifft(do_tf_amax))[0:N_do]\n",
    "do_pb_test = np.real(np.fft.ifft(do_tf_pb))[0:N_do]\n",
    "dosol_test = np.real(np.fft.ifft(np.fft.fft(do)))"
   ]
  },
  {
   "cell_type": "code",
   "execution_count": 22,
   "metadata": {},
   "outputs": [],
   "source": [
    "wav.write(\"Do_pico.wav\",np.int64(fs_do),np.int16(do_amax))\n",
    "wav.write(\"Do_pasabajos.wav\",np.int64(fs_do),np.int16(do_pb))\n",
    "wav.write(\"DoSol.wav\",np.int64(fs_doSol),np.int16(dosol))"
   ]
  },
  {
   "cell_type": "code",
   "execution_count": 18,
   "metadata": {
    "collapsed": true
   },
   "outputs": [],
   "source": [
    "t = np.linspace(0,N_do/fs_do-1,N_do)\n",
    "fig3, ax3 = plt.subplots(nrows = 3)\n",
    "ax3[0].plot(t,do,'r',linewidth=1)\n",
    "ax3[1].plot(t,do_amax,'violet',linewidth=1)\n",
    "ax3[2].plot(t,do_pb,'b',linewidth=1)\n",
    "ax3[0].set_ylabel(r'|Transformada nota Do|$^2$',size=5)\n",
    "ax3[1].set_ylabel(r'|Transformada nota Do''\\n' r'sin máximo|$^2$',size=5)\n",
    "ax3[2].set_ylabel(r'|Transformada nota Do''\\n' r'con filtro pasabajas|$^2$',size=5)\n",
    "ax3[2].set_xlabel(r'Frecuencia (Hz)',size=6)\n",
    "plt.setp(ax3[0].get_xticklabels(), visible=False)\n",
    "plt.setp(ax3[1].get_xticklabels(), visible=False)\n",
    "for i in range(0,3):\n",
    "    #ax1[i].set_xlim(-4000,4000)\n",
    "    ax3[i].tick_params(labelsize=6)\n",
    "    tx = ax3[i].yaxis.get_offset_text()\n",
    "    tx.set_fontsize(6)\n",
    "fig3.savefig('DoSignals.pdf')\n",
    "plt.close()"
   ]
  },
  {
   "cell_type": "code",
   "execution_count": null,
   "metadata": {
    "collapsed": true
   },
   "outputs": [],
   "source": []
  }
 ],
 "metadata": {
  "kernelspec": {
   "display_name": "Python 3",
   "language": "python",
   "name": "python3"
  },
  "language_info": {
   "codemirror_mode": {
    "name": "ipython",
    "version": 3
   },
   "file_extension": ".py",
   "mimetype": "text/x-python",
   "name": "python",
   "nbconvert_exporter": "python",
   "pygments_lexer": "ipython3",
   "version": "3.5.2"
  }
 },
 "nbformat": 4,
 "nbformat_minor": 2
}
