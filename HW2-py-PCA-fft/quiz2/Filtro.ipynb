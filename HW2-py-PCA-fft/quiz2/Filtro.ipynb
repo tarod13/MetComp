{
 "cells": [
  {
   "cell_type": "code",
   "execution_count": 1,
   "metadata": {
    "collapsed": true
   },
   "outputs": [],
   "source": [
    "import numpy as np\n",
    "import pylab as plt\n",
    "import scipy.io.wavfile as wav"
   ]
  },
  {
   "cell_type": "code",
   "execution_count": 19,
   "metadata": {
    "collapsed": true
   },
   "outputs": [],
   "source": [
    "def filtro_pasabandas(transformada,f_muestreo,f_corte,ff):\n",
    "    N_f = transformada.shape[0]\n",
    "    freq_f = np.linspace(-N_f/2,N_f/2-1,N_f)*f_muestreo/N_f\n",
    "    filtro = np.complex64(np.zeros(N_f))\n",
    "    for i in range(0,N_f):\n",
    "        f = freq_f[i]\n",
    "        if (np.absolute(f) > f_corte[0] and np.absolute(f) < f_corte[1]):\n",
    "            filtro[i] = np.exp(-1j*2*np.pi*f/ff)            \n",
    "    return(transformada * filtro, filtro)"
   ]
  },
  {
   "cell_type": "code",
   "execution_count": 3,
   "metadata": {
    "collapsed": true
   },
   "outputs": [],
   "source": [
    "fs, violin, = wav.read(\"violin.wav\")\n",
    "N = violin.shape[0]"
   ]
  },
  {
   "cell_type": "code",
   "execution_count": 4,
   "metadata": {},
   "outputs": [],
   "source": [
    "tf_violin = np.fft.fft(violin)\n",
    "tf_violin_shift = np.concatenate((tf_violin[np.int64(N/2):N],tf_violin[0:np.int64(N/2)]))\n",
    "freq = np.linspace(-N/2,N/2-1,N)*fs/N"
   ]
  },
  {
   "cell_type": "code",
   "execution_count": 9,
   "metadata": {},
   "outputs": [],
   "source": [
    "fig1, ax1 = plt.subplots()\n",
    "ax1.plot(freq,np.absolute(tf_violin_shift)**2)\n",
    "ax1.set_xlabel(r'Frecuencia (Hz)')\n",
    "ax1.set_ylabel(r'|Transformada|$^2$')\n",
    "ax1.set_xlim(-6000,6000)\n",
    "fig1.savefig('Violin.pdf')\n",
    "plt.close()"
   ]
  },
  {
   "cell_type": "code",
   "execution_count": 20,
   "metadata": {},
   "outputs": [],
   "source": [
    "frecuencias_corte = np.array([1000,2000])\n",
    "frecuencia_filtro = 50\n",
    "tf_violin_filtro_pb, tf_filtro = filtro_pasabandas(tf_violin_shift,fs,frecuencias_corte,frecuencia_filtro)"
   ]
  },
  {
   "cell_type": "code",
   "execution_count": 30,
   "metadata": {},
   "outputs": [],
   "source": [
    "fig2, ax2 = plt.subplots(nrows = 2)\n",
    "ax2[0].plot(freq,np.absolute(tf_violin_shift)**2,'r')\n",
    "ax2[1].plot(freq,np.absolute(tf_violin_filtro_pb)**2,'b')\n",
    "ax2[1].set_xlabel(r'Frecuencia (Hz)')\n",
    "ax2[0].set_ylabel(r'|Transformada|$^2$')\n",
    "ax2[1].set_ylabel(r'|Transformada filtrada|$^2$')\n",
    "ax2[0].set_xlim(-6000,6000)\n",
    "ax2[1].set_xlim(-6000,6000)\n",
    "fig2.savefig('ViolinFiltro.pdf')\n",
    "plt.close()"
   ]
  },
  {
   "cell_type": "code",
   "execution_count": null,
   "metadata": {
    "collapsed": true
   },
   "outputs": [],
   "source": []
  }
 ],
 "metadata": {
  "kernelspec": {
   "display_name": "Python 3",
   "language": "python",
   "name": "python3"
  },
  "language_info": {
   "codemirror_mode": {
    "name": "ipython",
    "version": 3
   },
   "file_extension": ".py",
   "mimetype": "text/x-python",
   "name": "python",
   "nbconvert_exporter": "python",
   "pygments_lexer": "ipython3",
   "version": "3.5.2"
  }
 },
 "nbformat": 4,
 "nbformat_minor": 2
}
