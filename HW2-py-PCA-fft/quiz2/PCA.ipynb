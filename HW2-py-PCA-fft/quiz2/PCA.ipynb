{
 "cells": [
  {
   "cell_type": "code",
   "execution_count": 1,
   "metadata": {
    "collapsed": true
   },
   "outputs": [],
   "source": [
    "import numpy as np\n",
    "import pylab as plt\n",
    "import numpy.linalg as lin"
   ]
  },
  {
   "cell_type": "code",
   "execution_count": 2,
   "metadata": {},
   "outputs": [],
   "source": [
    "temperatura = np.genfromtxt('room-temperature.csv',delimiter=',',skip_header=1,usecols=[1,2,3,4])"
   ]
  },
  {
   "cell_type": "code",
   "execution_count": 3,
   "metadata": {},
   "outputs": [],
   "source": [
    "temperatura_normalizada = (temperatura - np.mean(temperatura,axis=0))/np.std(temperatura,axis = 0)\n",
    "matriz_covarianza = np.cov(temperatura_normalizada.T)"
   ]
  },
  {
   "cell_type": "code",
   "execution_count": 4,
   "metadata": {},
   "outputs": [
    {
     "name": "stdout",
     "output_type": "stream",
     "text": [
      "PC1 es: [ -0.494\n",
      ", -0.5282\n",
      ", -0.4698\n",
      ", -0.5063\n",
      " ] y PC2 es: [ -0.502\n",
      ", -0.473\n",
      ", 0.541\n",
      ", 0.481\n"
     ]
    }
   ],
   "source": [
    "valores_p, vectores_p = lin.eig(matriz_covarianza)\n",
    "PC1 = vectores_p[:,0]\n",
    "PC2 = vectores_p[:,1]\n",
    "print(\"PC1 es: [ %.3f\" % PC1[0])\n",
    "for i in range(1,PC1.shape[0]):\n",
    "      print(\", %.3f\" % PC1[i])\n",
    "print(\" ] y PC2 es: [ %.3f\" % PC2[0])\n",
    "for i in range(1,PC2.shape[0]):\n",
    "      print(\", %.3f\" % PC2[i])"
   ]
  },
  {
   "cell_type": "code",
   "execution_count": 5,
   "metadata": {},
   "outputs": [],
   "source": [
    "fig1, ax1 = plt.subplots()\n",
    "colormap = ['yellow','red','green','blue']\n",
    "etiquetas = ['Frontal izquierdo','Frontal derecho','Posterior izquierdo','Posterior derecho']\n",
    "for i in range(0,4):\n",
    "    ax1.scatter(PC1[i],PC2[i], c = colormap[i], s = 10, label = etiquetas[i])\n",
    "ax1.set_xlabel('Primera componente')\n",
    "ax1.set_ylabel('Segunda componente')\n",
    "ax1.legend(etiquetas)\n",
    "fig1.savefig('Agrupaciones.pdf')\n",
    "plt.close()"
   ]
  },
  {
   "cell_type": "code",
   "execution_count": 6,
   "metadata": {},
   "outputs": [
    {
     "name": "stdout",
     "output_type": "stream",
     "text": [
      "[ 8.34471259  1.82614004  0.41382139  0.29663183]\n",
      "[[-0.49391128 -0.50203076 -0.70984479  0.01171101]\n",
      " [-0.52817872 -0.47304176  0.70076399 -0.07866743]\n",
      " [-0.46980861  0.54077759 -0.06702403 -0.69451224]\n",
      " [-0.50631883  0.48141065  0.02362183  0.71507135]]\n"
     ]
    }
   ],
   "source": [
    "print(valores_p)\n",
    "print(vectores_p)"
   ]
  },
  {
   "cell_type": "code",
   "execution_count": null,
   "metadata": {
    "collapsed": true
   },
   "outputs": [],
   "source": []
  }
 ],
 "metadata": {
  "kernelspec": {
   "display_name": "Python 3",
   "language": "python",
   "name": "python3"
  },
  "language_info": {
   "codemirror_mode": {
    "name": "ipython",
    "version": 3
   },
   "file_extension": ".py",
   "mimetype": "text/x-python",
   "name": "python",
   "nbconvert_exporter": "python",
   "pygments_lexer": "ipython3",
   "version": "3.5.2"
  }
 },
 "nbformat": 4,
 "nbformat_minor": 2
}
