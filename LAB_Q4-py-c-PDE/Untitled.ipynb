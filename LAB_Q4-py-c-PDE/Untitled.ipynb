{
 "cells": [
  {
   "cell_type": "code",
   "execution_count": 1,
   "metadata": {
    "collapsed": true
   },
   "outputs": [],
   "source": [
    "import numpy as np\n",
    "import pylab as plt"
   ]
  },
  {
   "cell_type": "code",
   "execution_count": 2,
   "metadata": {
    "collapsed": true
   },
   "outputs": [],
   "source": [
    "u = np.genfromtxt(\"conveccion.csv\",delimiter=',')"
   ]
  },
  {
   "cell_type": "code",
   "execution_count": 3,
   "metadata": {
    "collapsed": true
   },
   "outputs": [],
   "source": [
    "n_puntos_t = u.shape[0]\n",
    "n_puntos_x = u.shape[1]\n",
    "xfin = 2\n",
    "x = np.linspace(0,xfin,n_puntos_x)"
   ]
  },
  {
   "cell_type": "code",
   "execution_count": 4,
   "metadata": {},
   "outputs": [],
   "source": [
    "fig1, ax1 = plt.subplots(2,1)\n",
    "ax1[0].set_xlabel(r'$x$ (UA)', size = 9)\n",
    "ax1[1].set_xlabel(r'$x$ (UA)', size = 9)\n",
    "ax1[0].set_ylabel(r'$u(x,0)$', size = 9)\n",
    "ax1[1].set_ylabel(r'$u(x,0.3)$', size = 9)\n",
    "ax1[0].tick_params(labelsize = 8)\n",
    "ax1[1].tick_params(labelsize = 8)\n",
    "ax1[0].plot(x, u[0,:], 'r', linewidth = 1)    \n",
    "ax1[1].plot(x, u[n_puntos_t-1,:], 'b', linewidth = 1)    \n",
    "fig1.savefig('conveccion.pdf',dpi=300)\n",
    "plt.close()"
   ]
  },
  {
   "cell_type": "code",
   "execution_count": null,
   "metadata": {
    "collapsed": true
   },
   "outputs": [],
   "source": []
  }
 ],
 "metadata": {
  "kernelspec": {
   "display_name": "Python 3",
   "language": "python",
   "name": "python3"
  },
  "language_info": {
   "codemirror_mode": {
    "name": "ipython",
    "version": 3
   },
   "file_extension": ".py",
   "mimetype": "text/x-python",
   "name": "python",
   "nbconvert_exporter": "python",
   "pygments_lexer": "ipython3",
   "version": "3.5.2"
  }
 },
 "nbformat": 4,
 "nbformat_minor": 2
}
