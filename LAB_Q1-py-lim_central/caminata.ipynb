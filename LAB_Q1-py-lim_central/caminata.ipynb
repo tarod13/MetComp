{
 "cells": [
  {
   "cell_type": "code",
   "execution_count": 1,
   "metadata": {
    "collapsed": true
   },
   "outputs": [],
   "source": [
    "import numpy as np\n",
    "import pylab as plt\n",
    "from scipy.stats import norm"
   ]
  },
  {
   "cell_type": "code",
   "execution_count": 2,
   "metadata": {},
   "outputs": [],
   "source": [
    "#Lectura del archivo\n",
    "lanzamientos = np.loadtxt('datos_CAMINATA.txt')"
   ]
  },
  {
   "cell_type": "code",
   "execution_count": 3,
   "metadata": {},
   "outputs": [],
   "source": [
    "#Generacion de histograma de la primera caminata\n",
    "plt.hist(lanzamientos[0],bins=10)\n",
    "plt.savefig('binomial.png')\n",
    "plt.close()"
   ]
  },
  {
   "cell_type": "code",
   "execution_count": 4,
   "metadata": {},
   "outputs": [],
   "source": [
    "#Construccion de arreglo con la cantidad total de pasos por caminata\n",
    "pasos_dados = np.sum(lanzamientos,axis=1)"
   ]
  },
  {
   "cell_type": "code",
   "execution_count": 5,
   "metadata": {
    "collapsed": true
   },
   "outputs": [],
   "source": [
    "#Fit de la distribucion normal\n",
    "[loc,scale] = norm.fit(pasos_dados)"
   ]
  },
  {
   "cell_type": "code",
   "execution_count": 6,
   "metadata": {},
   "outputs": [],
   "source": [
    "#Generacion de histograma del total de datos de todas las caminatas\n",
    "plt.hist(pasos_dados,normed=True,bins=50)\n",
    "x_norm = np.linspace(3300,3700,len(pasos_dados))\n",
    "y_norm = norm.pdf(x_norm,loc,scale)\n",
    "plt.plot(x_norm,y_norm)\n",
    "plt.savefig('normal.png')\n",
    "plt.close()"
   ]
  },
  {
   "cell_type": "code",
   "execution_count": 7,
   "metadata": {},
   "outputs": [
    {
     "name": "stdout",
     "output_type": "stream",
     "text": [
      "La probabilidad de sacar una cara con esta moneda es : 0.3500817\n"
     ]
    }
   ],
   "source": [
    "#Determinacion de la probabilidad binomial \n",
    "#a partir del teorema del limite central\n",
    "mu_binom = loc/1000.0\n",
    "p_binom = mu_binom/10\n",
    "print('La probabilidad de sacar una cara con esta moneda es : %s' % p_binom)"
   ]
  }
 ],
 "metadata": {
  "kernelspec": {
   "display_name": "Python 3",
   "language": "python",
   "name": "python3"
  },
  "language_info": {
   "codemirror_mode": {
    "name": "ipython",
    "version": 3
   },
   "file_extension": ".py",
   "mimetype": "text/x-python",
   "name": "python",
   "nbconvert_exporter": "python",
   "pygments_lexer": "ipython3",
   "version": "3.5.2"
  }
 },
 "nbformat": 4,
 "nbformat_minor": 2
}
