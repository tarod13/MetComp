{
 "cells": [
  {
   "cell_type": "code",
   "execution_count": 1,
   "metadata": {
    "collapsed": true
   },
   "outputs": [],
   "source": [
    "import numpy as np\n",
    "import pylab as plt"
   ]
  },
  {
   "cell_type": "code",
   "execution_count": 7,
   "metadata": {
    "collapsed": true
   },
   "outputs": [],
   "source": [
    "def modelo(x,parametros):\n",
    "    return(parametros[0]*x+parametros[1])"
   ]
  },
  {
   "cell_type": "code",
   "execution_count": 23,
   "metadata": {
    "collapsed": true
   },
   "outputs": [],
   "source": [
    "def funcion_likelihood(y,y_actual,y_propuesta):\n",
    "    chi2_actual = np.sum((y-y_actual)**2)\n",
    "    chi2_propuesta = np.sum((y-y_propuesta)**2)\n",
    "    if chi2_actual > 1e10:\n",
    "        chi2_actual*=1e-10\n",
    "        chi2_propuesta*=1e-10\n",
    "    l_actual = np.exp(-chi2_actual/2)\n",
    "    l_propuesta = np.exp(-chi2_propuesta/2)\n",
    "    return(l_actual,l_propuesta)"
   ]
  },
  {
   "cell_type": "code",
   "execution_count": 35,
   "metadata": {
    "collapsed": true
   },
   "outputs": [],
   "source": [
    "def metropolis_hastings(x,y,parametros):    \n",
    "    parametros_propuestos = np.random.normal(parametros,[1,1])\n",
    "    y_estimada_actual = modelo(x,parametros)\n",
    "    y_estimada_propuesta = modelo(x,parametros_propuestos)\n",
    "    likelihoods = funcion_likelihood(y,y_estimada_actual,y_estimada_propuesta)\n",
    "    alpha = likelihoods[1]/likelihoods[0]\n",
    "    if alpha > 1:\n",
    "        parametros_nuevos = parametros_propuestos\n",
    "        likelihood_nuevos = likelihoods[1]\n",
    "    else:\n",
    "        beta = np.random.rand()\n",
    "        if alpha > beta:\n",
    "            parametros_nuevos = parametros_propuestos\n",
    "            likelihood_nuevos = likelihoods[1]\n",
    "        else:\n",
    "            parametros_nuevos = parametros\n",
    "            likelihood_nuevos = likelihoods[0]\n",
    "    return(parametros_nuevos,likelihood_nuevos)"
   ]
  },
  {
   "cell_type": "code",
   "execution_count": 9,
   "metadata": {
    "collapsed": true
   },
   "outputs": [],
   "source": [
    "datos = np.genfromtxt('obs_data.dat', delimiter = ' ')\n",
    "x_observado = datos[:,0]\n",
    "y_observada = datos[:,1]"
   ]
  },
  {
   "cell_type": "code",
   "execution_count": 31,
   "metadata": {},
   "outputs": [],
   "source": [
    "n_iteraciones = 100"
   ]
  },
  {
   "cell_type": "code",
   "execution_count": 33,
   "metadata": {},
   "outputs": [],
   "source": [
    "parametros = [np.random.rand(2)]\n",
    "likelihood_inicial,l = funcion_likelihood(y_observada,modelo(x_observado,parametros[0]),np.zeros(datos.shape[0]))\n",
    "likelihoods = [likelihood_inicial]"
   ]
  },
  {
   "cell_type": "code",
   "execution_count": 36,
   "metadata": {},
   "outputs": [],
   "source": [
    "for i in range(0,n_iteraciones):\n",
    "    resultados = metropolis_hastings(x_observado,y_observada,parametros[i])\n",
    "    parametros.append(resultados[0])\n",
    "    likelihoods.append(resultados[1])"
   ]
  },
  {
   "cell_type": "code",
   "execution_count": 43,
   "metadata": {},
   "outputs": [],
   "source": [
    "indice_max_lkhood = np.argmax(likelihoods)\n",
    "parametros_max_lkhood = parametros[indice_max_lkhood]\n",
    "y_estimada = modelo(x_observado,parametros_max_lkhood)"
   ]
  },
  {
   "cell_type": "code",
   "execution_count": 49,
   "metadata": {},
   "outputs": [
    {
     "name": "stdout",
     "output_type": "stream",
     "text": [
      "los parámetro encontrados son m = 0.525695 y b = 0.282411\n"
     ]
    }
   ],
   "source": [
    "print(\"los parámetro encontrados son m = %f y b = %f\" % (parametros_max_lkhood[0], parametros_max_lkhood[1]))"
   ]
  },
  {
   "cell_type": "code",
   "execution_count": 50,
   "metadata": {
    "collapsed": true
   },
   "outputs": [],
   "source": [
    "parametros = np.array(parametros)\n",
    "likelihoods = np.array(likelihoods)"
   ]
  },
  {
   "cell_type": "code",
   "execution_count": 53,
   "metadata": {
    "collapsed": true
   },
   "outputs": [],
   "source": [
    "fig1, ax1 = plt.subplots()\n",
    "ax1.scatter(parametros[:,0],-np.log(likelihoods))\n",
    "ax1.set_xlabel(r'$\\chi^2/2$',size=10)\n",
    "ax1.set_ylabel(r'm',size=10)\n",
    "fig1.savefig('Param_m.pdf',dpi=300)\n",
    "plt.close()"
   ]
  },
  {
   "cell_type": "code",
   "execution_count": 54,
   "metadata": {
    "collapsed": true
   },
   "outputs": [],
   "source": [
    "fig2, ax2 = plt.subplots()\n",
    "ax2.scatter(parametros[:,1],-np.log(likelihoods))\n",
    "ax2.set_xlabel(r'$\\chi^2/2$',size=10)\n",
    "ax2.set_ylabel(r'm',size=10)\n",
    "fig2.savefig('Param_b.pdf',dpi=300)\n",
    "plt.close()"
   ]
  },
  {
   "cell_type": "code",
   "execution_count": 47,
   "metadata": {},
   "outputs": [],
   "source": [
    "fig3, ax3 = plt.subplots()\n",
    "ax3.scatter(x_observado,y_observada)\n",
    "ax3.plot(x_observado,y_estimada)\n",
    "ax3.set_xlabel(r'$x$',size=10)\n",
    "ax3.set_ylabel(r'$y$',size=10)\n",
    "fig3.savefig('Modelo.pdf',dpi=300)\n",
    "plt.close()"
   ]
  },
  {
   "cell_type": "code",
   "execution_count": null,
   "metadata": {
    "collapsed": true
   },
   "outputs": [],
   "source": []
  }
 ],
 "metadata": {
  "kernelspec": {
   "display_name": "Python 3",
   "language": "python",
   "name": "python3"
  },
  "language_info": {
   "codemirror_mode": {
    "name": "ipython",
    "version": 3
   },
   "file_extension": ".py",
   "mimetype": "text/x-python",
   "name": "python",
   "nbconvert_exporter": "python",
   "pygments_lexer": "ipython3",
   "version": "3.5.2"
  }
 },
 "nbformat": 4,
 "nbformat_minor": 2
}
