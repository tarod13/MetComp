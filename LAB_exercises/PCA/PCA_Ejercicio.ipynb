{
 "cells": [
  {
   "cell_type": "code",
   "execution_count": 1,
   "metadata": {
    "collapsed": true
   },
   "outputs": [],
   "source": [
    "import numpy as np\n",
    "import pylab as plt\n",
    "import numpy.linalg as lin"
   ]
  },
  {
   "cell_type": "code",
   "execution_count": 2,
   "metadata": {
    "collapsed": true
   },
   "outputs": [],
   "source": [
    "food_data = np.genfromtxt('food-texture.csv', delimiter=',', skip_header = 1, usecols = (1,2,3,4,5))"
   ]
  },
  {
   "cell_type": "code",
   "execution_count": 3,
   "metadata": {
    "collapsed": true
   },
   "outputs": [],
   "source": [
    "fig1, ax1 = plt.subplots(nrows = 5)\n",
    "ax1[0].hist(food_data[:,0])\n",
    "ax1[1].hist(food_data[:,1])\n",
    "ax1[2].hist(food_data[:,2])\n",
    "ax1[3].hist(food_data[:,3])\n",
    "ax1[4].hist(food_data[:,4])\n",
    "plt.savefig('Food_histograms.pdf')\n",
    "plt.close()"
   ]
  },
  {
   "cell_type": "code",
   "execution_count": 4,
   "metadata": {
    "collapsed": true
   },
   "outputs": [],
   "source": [
    "food_normalized_data = np.zeros(food_data.shape)\n",
    "for column in range(0,5):\n",
    "    mean = np.mean(food_data[:,column])\n",
    "    dev = np.cov(food_data[:,column])\n",
    "    food_normalized_data[:,column] = (food_data[:,column] - mean)/np.sqrt(dev)"
   ]
  },
  {
   "cell_type": "code",
   "execution_count": 5,
   "metadata": {
    "collapsed": true
   },
   "outputs": [],
   "source": [
    "fig2, ax2 = plt.subplots(nrows = 5)\n",
    "ax2[0].hist(food_normalized_data[:,0])\n",
    "ax2[1].hist(food_normalized_data[:,1])\n",
    "ax2[2].hist(food_normalized_data[:,2])\n",
    "ax2[3].hist(food_normalized_data[:,3])\n",
    "ax2[4].hist(food_normalized_data[:,4])\n",
    "plt.savefig('Food_normalized_histograms.pdf')\n",
    "plt.close()"
   ]
  },
  {
   "cell_type": "code",
   "execution_count": 6,
   "metadata": {},
   "outputs": [
    {
     "name": "stdout",
     "output_type": "stream",
     "text": [
      "El peso del primer componente es: 60.624\n",
      "El peso del segundo componente es: 25.914\n"
     ]
    }
   ],
   "source": [
    "cov_matrix = np.cov(food_normalized_data.T)\n",
    "[eigenval,eigenvec] = lin.eig(cov_matrix)\n",
    "eigenval_var = np.sum(eigenval)\n",
    "comp_1_weight = eigenval[0]/eigenval_var*100.0\n",
    "comp_2_weight = eigenval[1]/eigenval_var*100.0\n",
    "print('El peso del primer componente es: %.3f' % comp_1_weight)\n",
    "print('El peso del segundo componente es: %.3f' % comp_2_weight)"
   ]
  },
  {
   "cell_type": "code",
   "execution_count": 7,
   "metadata": {},
   "outputs": [],
   "source": [
    "comp_1 = eigenvec[:,0]\n",
    "comp_2 = eigenvec[:,1]\n",
    "Npuntos = 200"
   ]
  },
  {
   "cell_type": "code",
   "execution_count": 8,
   "metadata": {
    "collapsed": true
   },
   "outputs": [],
   "source": [
    "slope_1_12 = comp_1[0]/comp_1[1]\n",
    "slope_2_12 = comp_2[0]/comp_2[1]\n",
    "min_12 = food_normalized_data[:,0].min()\n",
    "max_12 = food_normalized_data[:,0].max()\n",
    "axis_1 = np.linspace(min_12-0.1,max_12+0.1,Npuntos)\n",
    "comp_1_line_12 = slope_1_12*axis_1\n",
    "comp_2_line_12 = slope_2_12*axis_1\n",
    "\n",
    "slope_1_23 = comp_1[1]/comp_1[2]\n",
    "slope_2_23 = comp_2[1]/comp_2[2]\n",
    "min_23 = food_normalized_data[:,1].min()\n",
    "max_23 = food_normalized_data[:,1].max()\n",
    "axis_2 = np.linspace(min_23-0.1,max_23+0.1,Npuntos)\n",
    "comp_1_line_23 = slope_1_23*axis_2\n",
    "comp_2_line_23 = slope_2_23*axis_2\n",
    "\n",
    "slope_1_34 = comp_1[2]/comp_1[3]\n",
    "slope_2_34 = comp_2[2]/comp_2[3]\n",
    "min_34 = food_normalized_data[:,2].min()\n",
    "max_34 = food_normalized_data[:,2].max()\n",
    "axis_3 = np.linspace(min_34-0.1,max_34+0.1,Npuntos)\n",
    "comp_1_line_34 = slope_1_34*axis_3\n",
    "comp_2_line_34 = slope_2_34*axis_3\n",
    "\n",
    "slope_1_45 = comp_1[3]/comp_1[4]\n",
    "slope_2_45 = comp_2[3]/comp_2[4]\n",
    "min_45 = food_normalized_data[:,3].min()\n",
    "max_45 = food_normalized_data[:,3].max()\n",
    "axis_4 = np.linspace(min_45-0.1,max_45+0.1,Npuntos)\n",
    "comp_1_line_45 = slope_1_45*axis_4\n",
    "comp_2_line_45 = slope_2_45*axis_4"
   ]
  },
  {
   "cell_type": "code",
   "execution_count": 9,
   "metadata": {
    "collapsed": true
   },
   "outputs": [],
   "source": [
    "#food_projected_data = np.zeros((food_data.shape[0],2))\n",
    "#food_projected_data[:,0] = np.dot(food_normalized_data,comp_1)\n",
    "#food_projected_data[:,1] = np.dot(food_normalized_data,comp_2)"
   ]
  },
  {
   "cell_type": "code",
   "execution_count": 10,
   "metadata": {},
   "outputs": [],
   "source": [
    "fig3, ax3 = plt.subplots(2,2)\n",
    "ax3[0,0].scatter(food_normalized_data[:,0],food_normalized_data[:,1])\n",
    "ax3[0,0].plot(axis_1,comp_1_line_12,'r')\n",
    "ax3[0,0].plot(axis_1,comp_2_line_12, 'y')\n",
    "ax3[0,0].set_xlim([min_12-0.1, max_12+0.1])\n",
    "ax3[0,1].scatter(food_normalized_data[:,1],food_normalized_data[:,2])\n",
    "ax3[0,1].plot(axis_2,comp_1_line_23,'r')\n",
    "ax3[0,1].plot(axis_2,comp_2_line_23, 'y')\n",
    "ax3[0,1].set_xlim([min_23-0.1, max_23+0.1])\n",
    "ax3[1,0].scatter(food_normalized_data[:,2],food_normalized_data[:,3])\n",
    "ax3[1,0].plot(axis_3,comp_1_line_34,'r')\n",
    "ax3[1,0].plot(axis_3,comp_2_line_34, 'y')\n",
    "ax3[1,0].set_xlim([min_34-0.1, max_34+0.1])\n",
    "ax3[1,1].scatter(food_normalized_data[:,3],food_normalized_data[:,4])\n",
    "ax3[1,1].plot(axis_4,comp_1_line_45,'r')\n",
    "ax3[1,1].plot(axis_4,comp_2_line_45, 'y')\n",
    "ax3[1,1].set_xlim([min_45-0.1, max_45+0.1])\n",
    "plt.savefig('Food_scatter.pdf')\n",
    "plt.close()"
   ]
  },
  {
   "cell_type": "code",
   "execution_count": null,
   "metadata": {
    "collapsed": true
   },
   "outputs": [],
   "source": []
  }
 ],
 "metadata": {
  "kernelspec": {
   "display_name": "Python 3",
   "language": "python",
   "name": "python3"
  },
  "language_info": {
   "codemirror_mode": {
    "name": "ipython",
    "version": 3
   },
   "file_extension": ".py",
   "mimetype": "text/x-python",
   "name": "python",
   "nbconvert_exporter": "python",
   "pygments_lexer": "ipython3",
   "version": "3.5.2"
  }
 },
 "nbformat": 4,
 "nbformat_minor": 2
}
