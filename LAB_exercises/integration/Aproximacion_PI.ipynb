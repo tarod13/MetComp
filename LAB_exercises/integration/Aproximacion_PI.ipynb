{
 "cells": [
  {
   "cell_type": "code",
   "execution_count": 2,
   "metadata": {},
   "outputs": [
    {
     "name": "stdout",
     "output_type": "stream",
     "text": [
      "Aproximacion de pi = 3.141592653589790451462704368168\n",
      "El tiempo gastado fue: 3.150847911834717 segundos\n"
     ]
    }
   ],
   "source": [
    "import time\n",
    "start = time.time()\n",
    "import numpy as np\n",
    "\n",
    "def test_function(x):\n",
    "    return np.exp(-(x**2))\n",
    "\n",
    "def simpson_integration(lim_inf,lim_sup,nDivisiones):\n",
    "    delta = (lim_sup-lim_inf)/nDivisiones\n",
    "    suma = 0\n",
    "    i = 0\n",
    "    while(i < nDivisiones):\n",
    "        suma = suma + test_function(lim_inf+delta*i) + 2*test_function(lim_inf+delta*(i+1/2))\n",
    "        i = i + 1\n",
    "    integral = delta*(test_function(lim_sup)+2*suma-test_function(lim_inf))/6\n",
    "    return integral\n",
    "\n",
    "integral = simpson_integration(-10000,10000,1000000)\n",
    "\n",
    "approx_pi = integral**2\n",
    "print(\"Aproximacion de pi = %.30f\" % approx_pi)\n",
    "end = time.time()\n",
    "print(\"El tiempo gastado fue:\", end-start, \"segundos\")"
   ]
  },
  {
   "cell_type": "code",
   "execution_count": null,
   "metadata": {
    "collapsed": true
   },
   "outputs": [],
   "source": []
  }
 ],
 "metadata": {
  "kernelspec": {
   "display_name": "Python 3",
   "language": "python",
   "name": "python3"
  },
  "language_info": {
   "codemirror_mode": {
    "name": "ipython",
    "version": 3
   },
   "file_extension": ".py",
   "mimetype": "text/x-python",
   "name": "python",
   "nbconvert_exporter": "python",
   "pygments_lexer": "ipython3",
   "version": "3.5.2"
  }
 },
 "nbformat": 4,
 "nbformat_minor": 2
}
