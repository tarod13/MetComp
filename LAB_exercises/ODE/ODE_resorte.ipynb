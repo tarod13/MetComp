{
 "cells": [
  {
   "cell_type": "code",
   "execution_count": 1,
   "metadata": {
    "collapsed": true
   },
   "outputs": [],
   "source": [
    "import numpy as np\n",
    "import pylab as plt"
   ]
  },
  {
   "cell_type": "code",
   "execution_count": 2,
   "metadata": {
    "collapsed": true
   },
   "outputs": [],
   "source": [
    "x00 = 0.2\n",
    "x10 = 0.0\n",
    "k = 42\n",
    "g = 9.81\n",
    "mu = 0.15\n",
    "m = 0.25\n",
    "t0 = 0\n",
    "tend = 3\n",
    "n_puntos = 5001"
   ]
  },
  {
   "cell_type": "code",
   "execution_count": 3,
   "metadata": {
    "collapsed": true
   },
   "outputs": [],
   "source": [
    "t = np.array([np.linspace(t0,tend,n_puntos)])\n",
    "x0 = np.zeros(t.shape)\n",
    "x1 = np.zeros(t.shape)\n",
    "x2 = np.zeros(t.shape)"
   ]
  },
  {
   "cell_type": "code",
   "execution_count": 4,
   "metadata": {
    "collapsed": true
   },
   "outputs": [],
   "source": [
    "x0[0,0] = x00\n",
    "x1[0,0] = x10\n",
    "x2[0,0] = -k/m*x00 + mu*g"
   ]
  },
  {
   "cell_type": "code",
   "execution_count": 5,
   "metadata": {
    "collapsed": true
   },
   "outputs": [],
   "source": [
    "for i in range(1,t.shape[1]):\n",
    "    x0[0,i] = x0[0,i-1] + x1[0,i-1]*(t[0,i]-t[0,i-1])\n",
    "    x1[0,i] = x1[0,i-1] + x2[0,i-1]*(t[0,i]-t[0,i-1])\n",
    "    x2[0,i] = -k/m*x0[0,i] - np.sign(x1[0,i])*mu*g"
   ]
  },
  {
   "cell_type": "code",
   "execution_count": 8,
   "metadata": {
    "collapsed": true
   },
   "outputs": [],
   "source": [
    "fig1, ax1 = plt.subplots(nrows = 3)\n",
    "ax1[0].plot(t[0,:],x0[0,:], 'g')\n",
    "ax1[1].plot(t[0,:],x1[0,:], 'b')\n",
    "ax1[2].plot(t[0,:],x2[0,:], 'violet')\n",
    "for j in range(0,3):\n",
    "    ax1[j].grid(linestyle = '--', linewidth = 0.25)\n",
    "    ax1[j].tick_params(labelsize=5)\n",
    "ax1[0].set_ylabel(r'Posición (m)', fontsize = 6)\n",
    "ax1[1].set_ylabel(r'Velocidad (m/s)', fontsize = 6)\n",
    "ax1[2].set_ylabel(r'Aceleración (m/s$^2$)', fontsize = 6)\n",
    "ax1[2].set_xlabel(r'Tiempo (s)', fontsize = 6)\n",
    "plt.savefig('ODE_resorte.pdf')\n",
    "plt.close()"
   ]
  },
  {
   "cell_type": "code",
   "execution_count": null,
   "metadata": {
    "collapsed": true
   },
   "outputs": [],
   "source": []
  }
 ],
 "metadata": {
  "kernelspec": {
   "display_name": "Python 3",
   "language": "python",
   "name": "python3"
  },
  "language_info": {
   "codemirror_mode": {
    "name": "ipython",
    "version": 3
   },
   "file_extension": ".py",
   "mimetype": "text/x-python",
   "name": "python",
   "nbconvert_exporter": "python",
   "pygments_lexer": "ipython3",
   "version": "3.5.2"
  }
 },
 "nbformat": 4,
 "nbformat_minor": 2
}
