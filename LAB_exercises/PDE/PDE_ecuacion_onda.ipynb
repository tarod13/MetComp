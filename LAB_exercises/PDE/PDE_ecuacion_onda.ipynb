{
 "cells": [
  {
   "cell_type": "code",
   "execution_count": 1,
   "metadata": {
    "collapsed": true
   },
   "outputs": [],
   "source": [
    "import numpy as np\n",
    "import pylab as plt"
   ]
  },
  {
   "cell_type": "code",
   "execution_count": 2,
   "metadata": {
    "collapsed": true
   },
   "outputs": [],
   "source": [
    "def funcion_inicial(x):\n",
    "    u0x = np.exp(-(x-0.3)**2/0.01)\n",
    "    return u0x"
   ]
  },
  {
   "cell_type": "code",
   "execution_count": 3,
   "metadata": {
    "collapsed": true
   },
   "outputs": [],
   "source": [
    "def derivada_inicial(u0x):\n",
    "    N = u0x.shape[0]\n",
    "    u1x = np.zeros(N)\n",
    "    u1x[1:N-1] = u0x[1:N-1] + gamma**2/2*(u0x[2:N]-2*u0x[1:N-1]+u0x[0:N-2]) \n",
    "    return u1x"
   ]
  },
  {
   "cell_type": "code",
   "execution_count": 4,
   "metadata": {
    "collapsed": true
   },
   "outputs": [],
   "source": [
    "def solucion_PDE(u0x,u1x):\n",
    "    N = u0x.shape[0]\n",
    "    u2x = np.zeros(N)\n",
    "    u2x[1:N-1] = 2*(1-gamma**2)*u1x[1:N-1] - u0x[1:N-1] + gamma**2*(u1x[2:N]+u1x[0:N-2])\n",
    "    u2x[0] = 2*(1-gamma**2)*u1x[0] - u0x[0] + 2*gamma**2*u1x[1]\n",
    "    u2x[N-1] = 2*(1-gamma**2)*u1x[N-1] - u0x[N-1] + 2*gamma**2*u1x[N-2]\n",
    "    return u2x"
   ]
  },
  {
   "cell_type": "code",
   "execution_count": 5,
   "metadata": {
    "collapsed": true
   },
   "outputs": [],
   "source": [
    "lim_inf = 0\n",
    "lim_sup = 1\n",
    "n_puntos = 1000\n",
    "dt = 0.0005\n",
    "dx = (lim_sup-lim_inf)/n_puntos\n",
    "c = 1\n",
    "gamma = c*dt/dx\n",
    "tf = dt*3000\n",
    "x = np.linspace(lim_inf,lim_sup,n_puntos)\n",
    "u0 = funcion_inicial(x)\n",
    "u0x = np.copy(u0)"
   ]
  },
  {
   "cell_type": "code",
   "execution_count": 6,
   "metadata": {
    "collapsed": true
   },
   "outputs": [],
   "source": [
    "fig1, ax1 = plt.subplots()\n",
    "ax1.plot(x,u0x)\n",
    "fig1.savefig('Initial_condition.pdf')\n",
    "plt.close()"
   ]
  },
  {
   "cell_type": "code",
   "execution_count": 7,
   "metadata": {
    "collapsed": true
   },
   "outputs": [],
   "source": [
    "u1x = derivada_inicial(u0x)"
   ]
  },
  {
   "cell_type": "code",
   "execution_count": 8,
   "metadata": {
    "collapsed": true
   },
   "outputs": [],
   "source": [
    "fig2, ax2 = plt.subplots()\n",
    "ax2.plot(x,u0,'r')\n",
    "ax2.plot(x,u1x,'b')\n",
    "fig2.savefig('Initial_condition_derivative.pdf')\n",
    "plt.close()"
   ]
  },
  {
   "cell_type": "code",
   "execution_count": 9,
   "metadata": {
    "collapsed": true
   },
   "outputs": [],
   "source": [
    "for t in range(0,np.int64(tf/dt)):\n",
    "    u2x = solucion_PDE(u0x,u1x)\n",
    "    u0x = np.copy(u1x)\n",
    "    u1x = np.copy(u2x)"
   ]
  },
  {
   "cell_type": "code",
   "execution_count": 10,
   "metadata": {
    "collapsed": true
   },
   "outputs": [],
   "source": [
    "fig3, ax3 = plt.subplots()\n",
    "ax3.plot(x,u0,'r')\n",
    "ax3.plot(x,u2x,'b')\n",
    "fig3.savefig('PDE_solution.pdf')\n",
    "plt.close()"
   ]
  }
 ],
 "metadata": {
  "kernelspec": {
   "display_name": "Python 3",
   "language": "python",
   "name": "python3"
  },
  "language_info": {
   "codemirror_mode": {
    "name": "ipython",
    "version": 3
   },
   "file_extension": ".py",
   "mimetype": "text/x-python",
   "name": "python",
   "nbconvert_exporter": "python",
   "pygments_lexer": "ipython3",
   "version": "3.5.2"
  }
 },
 "nbformat": 4,
 "nbformat_minor": 2
}
