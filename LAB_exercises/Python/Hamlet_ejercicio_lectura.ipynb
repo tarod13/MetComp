{
 "cells": [
  {
   "cell_type": "code",
   "execution_count": 8,
   "metadata": {},
   "outputs": [],
   "source": [
    "#1. Cargar y leer \n",
    "file = open('pg1524.txt','r')\n",
    "lines = file.readlines()\n",
    "file.close()"
   ]
  },
  {
   "cell_type": "code",
   "execution_count": 11,
   "metadata": {},
   "outputs": [
    {
     "name": "stdout",
     "output_type": "stream",
     "text": [
      "PG has multiple editions of William Shakespeare's Complete Works\n",
      "\n"
     ]
    }
   ],
   "source": [
    "print(lines[1])"
   ]
  },
  {
   "cell_type": "code",
   "execution_count": 24,
   "metadata": {},
   "outputs": [],
   "source": [
    "#2. Separar en palabras\n",
    "words = list()\n",
    "for line in lines:\n",
    "    words_in_line = line.split()    \n",
    "    words = words + words_in_line"
   ]
  },
  {
   "cell_type": "code",
   "execution_count": 25,
   "metadata": {},
   "outputs": [
    {
     "name": "stdout",
     "output_type": "stream",
     "text": [
      "﻿Project\n"
     ]
    }
   ],
   "source": [
    "print(words[0])"
   ]
  },
  {
   "cell_type": "code",
   "execution_count": 30,
   "metadata": {},
   "outputs": [],
   "source": [
    "#3. Contar palabras de 9 letras\n",
    "nine_characters_words = 0\n",
    "for word in words:\n",
    "    number_characters = len(word)\n",
    "    if number_characters == 9:\n",
    "        nine_characters_words = nine_characters_words + 1"
   ]
  },
  {
   "cell_type": "code",
   "execution_count": 31,
   "metadata": {},
   "outputs": [
    {
     "name": "stdout",
     "output_type": "stream",
     "text": [
      "949\n"
     ]
    }
   ],
   "source": [
    "print(nine_characters_words)"
   ]
  },
  {
   "cell_type": "code",
   "execution_count": 39,
   "metadata": {},
   "outputs": [
    {
     "name": "stdout",
     "output_type": "stream",
     "text": [
      "1 1174\n",
      "2 5491\n",
      "3 6490\n",
      "4 7347\n",
      "5 4296\n",
      "6 2944\n",
      "7 2124\n",
      "8 1473\n",
      "9 949\n",
      "10 549\n"
     ]
    }
   ],
   "source": [
    "#4. Contar palabras de n letras\n",
    "for n in range(1,11):\n",
    "    n_characters_words = 0\n",
    "    for word in words:\n",
    "        number_characters = len(word)    \n",
    "        if number_characters == n:\n",
    "            n_characters_words = n_characters_words + 1\n",
    "    print (n,n_characters_words)"
   ]
  },
  {
   "cell_type": "code",
   "execution_count": null,
   "metadata": {
    "collapsed": true
   },
   "outputs": [],
   "source": []
  }
 ],
 "metadata": {
  "kernelspec": {
   "display_name": "Python 3",
   "language": "python",
   "name": "python3"
  },
  "language_info": {
   "codemirror_mode": {
    "name": "ipython",
    "version": 3
   },
   "file_extension": ".py",
   "mimetype": "text/x-python",
   "name": "python",
   "nbconvert_exporter": "python",
   "pygments_lexer": "ipython3",
   "version": "3.5.2"
  }
 },
 "nbformat": 4,
 "nbformat_minor": 2
}
