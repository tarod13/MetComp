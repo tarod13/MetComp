{
 "cells": [
  {
   "cell_type": "code",
   "execution_count": 1,
   "metadata": {
    "collapsed": true
   },
   "outputs": [],
   "source": [
    "import numpy as np\n",
    "import pylab as plt"
   ]
  },
  {
   "cell_type": "code",
   "execution_count": 2,
   "metadata": {
    "collapsed": true
   },
   "outputs": [],
   "source": [
    "def boudary_diff_eq(x,t):\n",
    "    if(x == x_0): \n",
    "        return(u_0_t)\n",
    "    elif(x == x_end):\n",
    "        return(u_end_t)\n",
    "    else:\n",
    "        return(0)"
   ]
  },
  {
   "cell_type": "code",
   "execution_count": 3,
   "metadata": {
    "collapsed": true
   },
   "outputs": [],
   "source": [
    "#1D - Diffusion equation solution\n",
    "n_puntos_x = 51\n",
    "n_puntos_t = 10001\n",
    "x_0 = 0\n",
    "x_end = 4\n",
    "t_0 = 0\n",
    "t_end = 2\n",
    "u_0_t = 10\n",
    "u_end_t = 2\n",
    "x = np.linspace(x_0,x_end,n_puntos_x)\n",
    "t = np.linspace(t_0,t_end,n_puntos_t)\n",
    "dx = x[1]-x[0]\n",
    "dt = t[1]-t[0]"
   ]
  },
  {
   "cell_type": "code",
   "execution_count": 4,
   "metadata": {
    "collapsed": true
   },
   "outputs": [],
   "source": [
    "u = np.zeros([n_puntos_x,n_puntos_t])\n",
    "u = np.zeros([n_puntos_x,n_puntos_t])\n",
    "for i in range (0,n_puntos_x):\n",
    "    u[i,0] = boudary_diff_eq(x[i],t_0)\n",
    "for j in range (0,n_puntos_t):\n",
    "    u[0,j] = boudary_diff_eq(x_0,t[j])\n",
    "    u[n_puntos_x-1,j] = boudary_diff_eq(x_end,t[j])    "
   ]
  },
  {
   "cell_type": "code",
   "execution_count": 5,
   "metadata": {},
   "outputs": [
    {
     "name": "stdout",
     "output_type": "stream",
     "text": [
      "0.03125\n"
     ]
    }
   ],
   "source": [
    "print(dt/dx**2)"
   ]
  },
  {
   "cell_type": "code",
   "execution_count": 6,
   "metadata": {},
   "outputs": [],
   "source": [
    "for j in range(0,n_puntos_t-1):\n",
    "    for i in range(1,n_puntos_x-1):\n",
    "        u[i,j+1] = (u[i+1,j] + u[i-1,j])*dt/(dx**2) + u[i,j]*(1-2*dt/dx**2)   "
   ]
  },
  {
   "cell_type": "code",
   "execution_count": 10,
   "metadata": {},
   "outputs": [
    {
     "data": {
      "image/png": "[encoded data removed]",
      "text/plain": [
       "<matplotlib.figure.Figure at 0x7f3b987dc550>"
      ]
     },
     "metadata": {},
     "output_type": "display_data"
    }
   ],
   "source": [
    "#X, T = np.meshgrid(x,t)\n",
    "fig1, ax1 = plt.subplots()\n",
    "ax1.plot(x,u[:,0])\n",
    "plt.show()\n",
    "plt.close()"
   ]
  },
  {
   "cell_type": "code",
   "execution_count": null,
   "metadata": {
    "collapsed": true
   },
   "outputs": [],
   "source": []
  }
 ],
 "metadata": {
  "kernelspec": {
   "display_name": "Python 3",
   "language": "python",
   "name": "python3"
  },
  "language_info": {
   "codemirror_mode": {
    "name": "ipython",
    "version": 3
   },
   "file_extension": ".py",
   "mimetype": "text/x-python",
   "name": "python",
   "nbconvert_exporter": "python",
   "pygments_lexer": "ipython3",
   "version": "3.5.2"
  }
 },
 "nbformat": 4,
 "nbformat_minor": 2
}
