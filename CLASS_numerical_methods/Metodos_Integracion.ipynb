{
 "cells": [
  {
   "cell_type": "code",
   "execution_count": 1,
   "metadata": {},
   "outputs": [],
   "source": [
    "import time\n",
    "start = time.time()\n",
    "import numpy as np"
   ]
  },
  {
   "cell_type": "code",
   "execution_count": 2,
   "metadata": {
    "collapsed": true
   },
   "outputs": [],
   "source": [
    "def test_function(x):\n",
    "    #return x/np.power((4-np.power(x,2)),2)\n",
    "    return np.exp(-(x**2))"
   ]
  },
  {
   "cell_type": "code",
   "execution_count": 3,
   "metadata": {
    "collapsed": true
   },
   "outputs": [],
   "source": [
    "def midpoint_integration(lim_inf,lim_sup,nDivisiones):\n",
    "    delta = (lim_sup-lim_inf)/nDivisiones\n",
    "    suma = 0\n",
    "    i = 0\n",
    "    while(i < nDivisiones):\n",
    "        suma = suma + test_function(lim_inf+delta*(i+1/2))\n",
    "        i = i+1\n",
    "    integral = delta*suma    \n",
    "    return integral"
   ]
  },
  {
   "cell_type": "code",
   "execution_count": 4,
   "metadata": {
    "collapsed": true
   },
   "outputs": [],
   "source": [
    "def trapezoid_integration(lim_inf,lim_sup,nDivisiones):\n",
    "    delta = (lim_sup-lim_inf)/nDivisiones\n",
    "    suma = 0\n",
    "    i = 1\n",
    "    while(i < nDivisiones):\n",
    "        suma = suma + test_function(lim_inf+delta*i)\n",
    "        i = i+1\n",
    "    integral = delta*((test_function(lim_inf) + test_function(lim_sup))/2 + suma)     \n",
    "    return integral"
   ]
  },
  {
   "cell_type": "code",
   "execution_count": 5,
   "metadata": {
    "collapsed": true
   },
   "outputs": [],
   "source": [
    "def simpson_integration(lim_inf,lim_sup,nDivisiones):\n",
    "    delta = (lim_sup-lim_inf)/nDivisiones\n",
    "    suma = 0\n",
    "    i = 0\n",
    "    while(i < nDivisiones):\n",
    "        suma = suma + test_function(lim_inf+delta*i) + 2*test_function(lim_inf+delta*(i+1/2))\n",
    "        i = i + 1\n",
    "    integral = delta*(test_function(lim_sup)+2*suma-test_function(lim_inf))/6\n",
    "    return integral"
   ]
  },
  {
   "cell_type": "code",
   "execution_count": 6,
   "metadata": {},
   "outputs": [],
   "source": [
    "#integral_tf1 = midpoint_integration(0,np.pi,10)\n",
    "#print(\"Integral = %.4f\" % integral_tf1) "
   ]
  },
  {
   "cell_type": "code",
   "execution_count": 7,
   "metadata": {},
   "outputs": [],
   "source": [
    "#integral_tf2 = trapezoid_integration(0,np.pi,10)\n",
    "#print(\"Integral = %.4f\" % integral_tf2) "
   ]
  },
  {
   "cell_type": "code",
   "execution_count": 8,
   "metadata": {},
   "outputs": [],
   "source": [
    "integral_tf3 = simpson_integration(-10000,10000,1000000)\n",
    "#print(\"Integral = %.4f\" % integral_tf3) "
   ]
  },
  {
   "cell_type": "code",
   "execution_count": 9,
   "metadata": {},
   "outputs": [],
   "source": [
    "#relative_error1=np.absolute(integral_tf1-1/24)*24 \n",
    "#relative_error1=np.absolute(integral_tf1-2)/2 \n",
    "#print(relative_error1*100)"
   ]
  },
  {
   "cell_type": "code",
   "execution_count": 10,
   "metadata": {},
   "outputs": [],
   "source": [
    "#relative_error2=np.absolute(integral_tf2-1/24)*24 \n",
    "#relative_error2=np.absolute(integral_tf2-2)/2 \n",
    "#print(relative_error2*100)"
   ]
  },
  {
   "cell_type": "code",
   "execution_count": 11,
   "metadata": {},
   "outputs": [],
   "source": [
    "#relative_error3=np.absolute(integral_tf3-1/24)*24 \n",
    "#relative_error3=np.absolute(integral_tf3-2)/2 \n",
    "#print(relative_error3*100)"
   ]
  },
  {
   "cell_type": "code",
   "execution_count": 12,
   "metadata": {},
   "outputs": [
    {
     "name": "stdout",
     "output_type": "stream",
     "text": [
      "Aproximacion de pi = 3.141592653589790451462704368168\n",
      "El tiempo gastado fue: 5.341938018798828\n"
     ]
    }
   ],
   "source": [
    "approx_pi2 = integral_tf3**2\n",
    "print(\"Aproximacion de pi = %.30f\" % approx_pi2)\n",
    "end = time.time()\n",
    "print(\"El tiempo gastado fue:\", end-start)"
   ]
  },
  {
   "cell_type": "code",
   "execution_count": null,
   "metadata": {
    "collapsed": true
   },
   "outputs": [],
   "source": []
  }
 ],
 "metadata": {
  "kernelspec": {
   "display_name": "Python 3",
   "language": "python",
   "name": "python3"
  },
  "language_info": {
   "codemirror_mode": {
    "name": "ipython",
    "version": 3
   },
   "file_extension": ".py",
   "mimetype": "text/x-python",
   "name": "python",
   "nbconvert_exporter": "python",
   "pygments_lexer": "ipython3",
   "version": "3.5.2"
  }
 },
 "nbformat": 4,
 "nbformat_minor": 2
}
