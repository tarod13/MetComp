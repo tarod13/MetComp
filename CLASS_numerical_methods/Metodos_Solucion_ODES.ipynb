{
 "cells": [
  {
   "cell_type": "code",
   "execution_count": 1,
   "metadata": {
    "collapsed": true
   },
   "outputs": [],
   "source": [
    "import numpy as np\n",
    "import pylab as plt"
   ]
  },
  {
   "cell_type": "code",
   "execution_count": 2,
   "metadata": {
    "collapsed": true
   },
   "outputs": [],
   "source": [
    "def derivative(x,y):\n",
    "    return(-y/4)"
   ]
  },
  {
   "cell_type": "code",
   "execution_count": 3,
   "metadata": {
    "collapsed": true
   },
   "outputs": [],
   "source": [
    "def solution_function(x):\n",
    "    return(np.exp(-x/4))"
   ]
  },
  {
   "cell_type": "code",
   "execution_count": 4,
   "metadata": {
    "collapsed": true
   },
   "outputs": [],
   "source": [
    "def y1_prime(x,y1,y2):\n",
    "    return(y2)"
   ]
  },
  {
   "cell_type": "code",
   "execution_count": 5,
   "metadata": {
    "collapsed": true
   },
   "outputs": [],
   "source": [
    "def y2_prime(x,y1,y2):\n",
    "    return(-y1)"
   ]
  },
  {
   "cell_type": "code",
   "execution_count": 6,
   "metadata": {
    "collapsed": true
   },
   "outputs": [],
   "source": [
    "def second_solution_function(x):\n",
    "    return(np.cos(x))"
   ]
  },
  {
   "cell_type": "code",
   "execution_count": 7,
   "metadata": {
    "collapsed": true
   },
   "outputs": [],
   "source": [
    "def euler_solver(y0,x):\n",
    "    y = np.zeros([x.shape[0],1])    \n",
    "    y[0,0] = y0\n",
    "    for i in range (1,x.shape[0]):\n",
    "        y[i,0] = y[i-1,0] + (x[i,0]-x[i-1,0])*derivative(x[i-1,0],y[i-1,0])\n",
    "    return y"
   ]
  },
  {
   "cell_type": "code",
   "execution_count": 8,
   "metadata": {
    "collapsed": true
   },
   "outputs": [],
   "source": [
    "def leap_frog_solver(y0,x):\n",
    "    y = np.zeros([x.shape[0],1])    \n",
    "    y[0,0] = y0\n",
    "    y[1,0] = y0 + (x[1,0]-x[0,0])*derivative(x[0,0],y0)\n",
    "    for i in range (2,x.shape[0]):\n",
    "        y[i,0] = y[i-2,0] + (x[i,0]-x[i-2,0])*derivative(x[i-1,0],y[i-1,0])\n",
    "    return y"
   ]
  },
  {
   "cell_type": "code",
   "execution_count": 9,
   "metadata": {
    "collapsed": true
   },
   "outputs": [],
   "source": [
    "def runge_kutta_4_solver(y0,x):\n",
    "    y = np.zeros([x.shape[0],1])    \n",
    "    y[0,0] = y0\n",
    "    for i in range (1,x.shape[0]):\n",
    "        h = x[i,0]-x[i-1,0]\n",
    "        k1 = h*derivative(x[i-1,0],y[i-1,0])\n",
    "        k2 = h*derivative(x[i-1,0]+h/2,y[i-1,0]+k1/2)\n",
    "        k3 = h*derivative(x[i-1,0]+h/2,y[i-1,0]+k2/2)\n",
    "        k4 = h*derivative(x[i-1,0]+h,y[i-1,0]+k3)\n",
    "        y[i,0] = y[i-1,0] + (k1+2*k2+2*k3+k4)/6\n",
    "    return y"
   ]
  },
  {
   "cell_type": "code",
   "execution_count": 10,
   "metadata": {
    "collapsed": true
   },
   "outputs": [],
   "source": [
    "def second_order_runge_kutta_4_solver(y10,y20,x):\n",
    "    y1 = np.zeros([x.shape[0],1])\n",
    "    y2 = np.zeros([x.shape[0],1])\n",
    "    y1[0,0] = y10\n",
    "    y2[0,0] = y20\n",
    "    for i in range (1,x.shape[0]):\n",
    "        h = x[i,0]-x[i-1,0]\n",
    "        k11 = h*y1_prime(x[i-1,0],y1[i-1,0],y2[i-1,0])\n",
    "        k12 = h*y2_prime(x[i-1,0],y1[i-1,0],y2[i-1,0])\n",
    "        k21 = h*y1_prime(x[i-1,0]+h/2,y1[i-1,0]+k11/2,y2[i-1,0]+k12/2)\n",
    "        k22 = h*y2_prime(x[i-1,0]+h/2,y1[i-1,0]+k11/2,y2[i-1,0]+k12/2)\n",
    "        k31 = h*y1_prime(x[i-1,0]+h/2,y1[i-1,0]+k21/2,y2[i-1,0]+k22/2)\n",
    "        k32 = h*y2_prime(x[i-1,0]+h/2,y1[i-1,0]+k21/2,y2[i-1,0]+k22/2)\n",
    "        k41 = h*y1_prime(x[i-1,0]+h,y1[i-1,0]+k31,y2[i-1,0]+k32)\n",
    "        k42 = h*y2_prime(x[i-1,0]+h,y1[i-1,0]+k31,y2[i-1,0]+k32)\n",
    "        y1[i,0] = y1[i-1,0] + (k11+2*k21+2*k31+k41)/6\n",
    "        y2[i,0] = y2[i-1,0] + (k12+2*k22+2*k32+k42)/6\n",
    "    return(y1,y2)"
   ]
  },
  {
   "cell_type": "code",
   "execution_count": 11,
   "metadata": {
    "collapsed": true
   },
   "outputs": [],
   "source": [
    "y_0 = 1\n",
    "x_inf = 0\n",
    "x_sup = 4\n",
    "n = 20"
   ]
  },
  {
   "cell_type": "code",
   "execution_count": 12,
   "metadata": {
    "collapsed": true
   },
   "outputs": [],
   "source": [
    "x = np.transpose(np.array([np.linspace(x_inf,x_sup,n)]))\n",
    "y_euler = euler_solver(y_0,x)\n",
    "y_lf = leap_frog_solver(y_0,x)\n",
    "y_rk4 = runge_kutta_4_solver(y_0,x)\n",
    "y_sol = solution_function(x)"
   ]
  },
  {
   "cell_type": "code",
   "execution_count": 17,
   "metadata": {},
   "outputs": [
    {
     "data": {
      "image/png": "[encoded data removed]",
      "text/plain": [
       "<matplotlib.figure.Figure at 0x7fa087ff3080>"
      ]
     },
     "metadata": {},
     "output_type": "display_data"
    }
   ],
   "source": [
    "fig1, ax1 = plt.subplots()\n",
    "ax1.plot(x,y_euler)\n",
    "ax1.plot(x,y_lf)\n",
    "ax1.plot(x,y_rk4+0.05)\n",
    "ax1.plot(x,y_sol)\n",
    "plt.xlabel(r'x')\n",
    "plt.xlabel(r'y')\n",
    "plt.show()\n",
    "plt.close()"
   ]
  },
  {
   "cell_type": "code",
   "execution_count": 14,
   "metadata": {
    "collapsed": true
   },
   "outputs": [],
   "source": [
    "y10 = 1\n",
    "y20 = 0"
   ]
  },
  {
   "cell_type": "code",
   "execution_count": 15,
   "metadata": {
    "collapsed": true
   },
   "outputs": [],
   "source": [
    "y_so_rk4, y_prime_so_rk4 = second_order_runge_kutta_4_solver(y10,y20,x)\n",
    "y_so_sol = second_solution_function(x)"
   ]
  },
  {
   "cell_type": "code",
   "execution_count": 16,
   "metadata": {},
   "outputs": [
    {
     "data": {
      "image/png": "[encoded data removed]",
      "text/plain": [
       "<matplotlib.figure.Figure at 0x7fa08a38cf98>"
      ]
     },
     "metadata": {},
     "output_type": "display_data"
    }
   ],
   "source": [
    "fig2, ax2 = plt.subplots()\n",
    "ax2.plot(x,y_so_rk4+0.1)\n",
    "ax2.plot(x,y_so_sol)\n",
    "plt.xlabel(r'x')\n",
    "plt.xlabel(r'y')\n",
    "plt.show()\n",
    "plt.close()"
   ]
  },
  {
   "cell_type": "code",
   "execution_count": null,
   "metadata": {
    "collapsed": true
   },
   "outputs": [],
   "source": []
  }
 ],
 "metadata": {
  "kernelspec": {
   "display_name": "Python 3",
   "language": "python",
   "name": "python3"
  },
  "language_info": {
   "codemirror_mode": {
    "name": "ipython",
    "version": 3
   },
   "file_extension": ".py",
   "mimetype": "text/x-python",
   "name": "python",
   "nbconvert_exporter": "python",
   "pygments_lexer": "ipython3",
   "version": "3.5.2"
  }
 },
 "nbformat": 4,
 "nbformat_minor": 2
}
