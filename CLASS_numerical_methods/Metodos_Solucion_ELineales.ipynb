{
 "cells": [
  {
   "cell_type": "code",
   "execution_count": 1,
   "metadata": {},
   "outputs": [
    {
     "name": "stdout",
     "output_type": "stream",
     "text": [
      "Populating the interactive namespace from numpy and matplotlib\n"
     ]
    }
   ],
   "source": [
    "import numpy as np\n",
    "%pylab inline"
   ]
  },
  {
   "cell_type": "code",
   "execution_count": 2,
   "metadata": {
    "collapsed": true
   },
   "outputs": [],
   "source": [
    "def test_zero_in_diagonal(matrix,vector,position):\n",
    "    for row in range(position+1,len(vector)):\n",
    "        if(matrix[position][position] == 0):\n",
    "            stored_row = np.copy(matrix[position])\n",
    "            stored_entry = np.copy(vector[position])\n",
    "            matrix[position] = np.copy(matrix[row])\n",
    "            vector[position] = np.copy(vector[row])\n",
    "            matrix[row] = np.copy(stored_row)\n",
    "            vector[row] = np.copy(stored_entry)\n",
    "    if(matrix[position][position] == 0):\n",
    "        error = True\n",
    "    else:\n",
    "        error = False\n",
    "        \n",
    "    return(matrix,vector,error)"
   ]
  },
  {
   "cell_type": "code",
   "execution_count": 3,
   "metadata": {
    "collapsed": true
   },
   "outputs": [],
   "source": [
    "def row_echelon_form(matrix,vector):\n",
    "    non_diagonal = False\n",
    "    for row in range(len(vector)):\n",
    "        [matrix,vector,error] = test_zero_in_diagonal(matrix,vector,row)\n",
    "        if error:\n",
    "            diag_coeff = 1.0\n",
    "            non_diagonal = True\n",
    "        else:\n",
    "            diag_coeff = matrix[row][row]      \n",
    "        matrix[row] = matrix[row]/diag_coeff\n",
    "        vector[row] = vector[row]/diag_coeff        \n",
    "        for next_row in range(row+1,len(vector)):\n",
    "            row_coeff = matrix[next_row][row]\n",
    "            matrix[next_row] = matrix[next_row] - row_coeff*matrix[row]\n",
    "            vector[next_row] = vector[next_row] - row_coeff*vector[row]    \n",
    "    return(matrix,vector,non_diagonal)"
   ]
  },
  {
   "cell_type": "code",
   "execution_count": 4,
   "metadata": {},
   "outputs": [
    {
     "name": "stdout",
     "output_type": "stream",
     "text": [
      "[[1 2 0 0]\n",
      " [0 1 0 0]\n",
      " [0 0 1 2]\n",
      " [0 0 0 1]]\n",
      "[0 0 1 0]\n",
      "False\n"
     ]
    }
   ],
   "source": [
    "A = np.array([[4, 8, 3, 1],[0, 4, 0, 1],[9, 1, 2, 4],[7, 7, 7, 1]])\n",
    "b = np.array([1,1,3,6])\n",
    "[A,b,Anon_diagonal] = row_echelon_form(A,b)\n",
    "print(A)\n",
    "print(b)\n",
    "print(Anon_diagonal)"
   ]
  },
  {
   "cell_type": "code",
   "execution_count": 5,
   "metadata": {},
   "outputs": [
    {
     "name": "stdout",
     "output_type": "stream",
     "text": [
      "[[1 0 0 0]\n",
      " [0 1 0 0]\n",
      " [0 0 1 0]\n",
      " [0 0 0 1]]\n",
      "[0 0 0 1]\n",
      "False\n"
     ]
    }
   ],
   "source": [
    "B = np.array([[0, 8, 3, 1],[0, 4, 0, 1],[9, 1, 2, 4],[7, 7, 7, 1]])\n",
    "c = np.array([1,1,3,6])\n",
    "[B,c,Bnon_diagonal] = row_echelon_form(B,c)\n",
    "print(B)\n",
    "print(c)\n",
    "print(Bnon_diagonal)"
   ]
  },
  {
   "cell_type": "code",
   "execution_count": 6,
   "metadata": {},
   "outputs": [
    {
     "name": "stdout",
     "output_type": "stream",
     "text": [
      "[[0 7 7 1]\n",
      " [0 1 0 0]\n",
      " [0 0 1 2]\n",
      " [0 0 0 1]]\n",
      "[6 0 1 1]\n",
      "True\n"
     ]
    }
   ],
   "source": [
    "C = np.array([[0, 8, 3, 1],[0, 4, 0, 1],[0, 1, 2, 4],[0, 7, 7, 1]])\n",
    "d = np.array([1,1,3,6])\n",
    "[C,d,Cnon_diagonal] = row_echelon_form(C,d)\n",
    "print(C)\n",
    "print(d)\n",
    "print(Cnon_diagonal)"
   ]
  },
  {
   "cell_type": "code",
   "execution_count": 7,
   "metadata": {},
   "outputs": [],
   "source": [
    "def gaussian_elimination(matrix,vector):\n",
    "    [matrix,vector,non_diagonal] = row_echelon_form(matrix,vector)\n",
    "    solution = np.zeros(len(vector),np.float64)\n",
    "    if(not non_diagonal):\n",
    "        for row in range(len(vector)):\n",
    "            index = len(vector)-1-row\n",
    "            solution[index] = vector[index] - np.dot(matrix[index],solution)\n",
    "    return(solution,non_diagonal)"
   ]
  },
  {
   "cell_type": "code",
   "execution_count": 8,
   "metadata": {},
   "outputs": [
    {
     "name": "stdout",
     "output_type": "stream",
     "text": [
      "[[ 1.          2.          0.75        0.25      ]\n",
      " [ 0.          1.          0.          0.25      ]\n",
      " [ 0.          0.          1.         -1.26315789]\n",
      " [ 0.          0.          0.          1.        ]]\n",
      "[ 0.25        0.25       -1.05263158  2.44262295]\n",
      "[-1.16393443 -0.36065574  2.03278689  2.44262295]\n",
      "False\n"
     ]
    }
   ],
   "source": [
    "AA = np.array([[4, 8, 3, 1],[0, 4, 0, 1],[9, 1, 2, 4],[7, 7, 7, 1]],np.float64)\n",
    "bb = np.array([1,1,3,6],np.float64)\n",
    "[AAA,bbb,AAAnon_diagonal] = row_echelon_form(AA,bb)\n",
    "[x,error] = gaussian_elimination(AA,bb)\n",
    "print(AAA)\n",
    "print(bbb)\n",
    "print(x)\n",
    "print(error)"
   ]
  },
  {
   "cell_type": "code",
   "execution_count": 9,
   "metadata": {},
   "outputs": [
    {
     "name": "stdout",
     "output_type": "stream",
     "text": [
      "[[0 0 0 1]\n",
      " [0 1 1 0]\n",
      " [0 0 1 0]\n",
      " [0 0 0 1]]\n",
      "[1 0 0 0]\n",
      "[ 0.  0.  0.  0.]\n",
      "True\n"
     ]
    }
   ],
   "source": [
    "CC = np.array([[0, 8, 3, 1],[0, 4, 0, 1],[0, 1, 2, 4],[0, 7, 7, 1]])\n",
    "dd = np.array([1,1,3,6])\n",
    "[CCC,ddd,CCCnon_diagonal] = row_echelon_form(CC,dd)\n",
    "[y,error2] = gaussian_elimination(CC,dd)\n",
    "print(CCC)\n",
    "print(ddd)\n",
    "print(y)\n",
    "print(error2)"
   ]
  },
  {
   "cell_type": "code",
   "execution_count": null,
   "metadata": {
    "collapsed": true
   },
   "outputs": [],
   "source": []
  }
 ],
 "metadata": {
  "kernelspec": {
   "display_name": "Python 3",
   "language": "python",
   "name": "python3"
  },
  "language_info": {
   "codemirror_mode": {
    "name": "ipython",
    "version": 3
   },
   "file_extension": ".py",
   "mimetype": "text/x-python",
   "name": "python",
   "nbconvert_exporter": "python",
   "pygments_lexer": "ipython3",
   "version": "3.5.2"
  }
 },
 "nbformat": 4,
 "nbformat_minor": 2
}
