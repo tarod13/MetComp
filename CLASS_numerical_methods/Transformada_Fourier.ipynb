{
 "cells": [
  {
   "cell_type": "code",
   "execution_count": 1,
   "metadata": {
    "collapsed": true
   },
   "outputs": [],
   "source": [
    "import numpy as np\n",
    "import pylab as plt"
   ]
  },
  {
   "cell_type": "code",
   "execution_count": 2,
   "metadata": {
    "collapsed": true
   },
   "outputs": [],
   "source": [
    "def function(x):\n",
    "    if np.absolute(x) < 5:\n",
    "        return 1\n",
    "    else:\n",
    "        return 0  "
   ]
  },
  {
   "cell_type": "code",
   "execution_count": 3,
   "metadata": {
    "collapsed": true
   },
   "outputs": [],
   "source": [
    "def function_2(x):\n",
    "    return np.sin(2*np.pi*x) "
   ]
  },
  {
   "cell_type": "code",
   "execution_count": 4,
   "metadata": {
    "collapsed": true
   },
   "outputs": [],
   "source": [
    "def DFT_exp(N_exp,n_exp,k_exp,sig_exp):\n",
    "    return np.sqrt(1/N_exp)*np.exp(-np.sign(sig_exp)*1j*2*np.pi*np.dot(n_exp,k_exp)/N_exp)"
   ]
  },
  {
   "cell_type": "code",
   "execution_count": 5,
   "metadata": {
    "collapsed": true
   },
   "outputs": [],
   "source": [
    "def DFT(sequence,k_DFT,sig,dim):\n",
    "    N_seq = sequence.shape[0]\n",
    "    if(dim == 1):\n",
    "        basis = np.array([DFT_exp(N_seq,n,k_DFT,sig) for n in range(0,N_seq)])\n",
    "    elif(dim == 2):\n",
    "        M_seq = sequence.shape[1]\n",
    "        basis = np.array([[DFT_exp(N_seq,np.array([n,m]),k_DFT,sig) for m in range(0,M_seq)] for n in range(0,N_seq)])\n",
    "    else:\n",
    "        print('Dimmension must be 1 or 2')\n",
    "    return np.dot(np.transpose(basis),sequence)"
   ]
  },
  {
   "cell_type": "code",
   "execution_count": 6,
   "metadata": {
    "collapsed": true
   },
   "outputs": [],
   "source": [
    "#def DFT(sequence,k_DFT):\n",
    "#    N_seq = len(sequence)\n",
    "#    basis = np.array([np.sqrt(1/N_seq)*np.exp(-1j*2*np.pi*n*k_DFT/N_seq) for n in range(0,N_seq)])\n",
    "#    return np.dot(np.transpose(basis),sequence)"
   ]
  },
  {
   "cell_type": "code",
   "execution_count": 7,
   "metadata": {
    "collapsed": true
   },
   "outputs": [],
   "source": [
    "N = 500\n",
    "lim_inf = -10 \n",
    "lim_sup = 10\n",
    "Ts = (lim_sup-lim_inf)/N\n",
    "t = np.linspace(lim_inf,lim_sup,N)\n",
    "k = np.transpose(np.array([np.linspace(-N/2,(N/2)-1,N)]))\n",
    "w = 2*np.pi*k/(N*Ts)"
   ]
  },
  {
   "cell_type": "code",
   "execution_count": 8,
   "metadata": {
    "collapsed": true
   },
   "outputs": [],
   "source": [
    "f1 = np.array([function(t_f) for t_f in t])\n",
    "F1 = DFT(f1,k,1,1).T\n",
    "magF1 = np.absolute(F1)"
   ]
  },
  {
   "cell_type": "code",
   "execution_count": 9,
   "metadata": {
    "collapsed": true
   },
   "outputs": [],
   "source": [
    "ax1, (fig1, fig2) = plt.subplots(nrows = 2)\n",
    "fig1.plot(t,f1)\n",
    "fig2.plot(w,np.real(F1))\n",
    "ax1.savefig('DFT_square.pdf')\n",
    "plt.close()"
   ]
  },
  {
   "cell_type": "code",
   "execution_count": 10,
   "metadata": {
    "collapsed": true
   },
   "outputs": [],
   "source": [
    "f2 = function_2(t)\n",
    "F2 = DFT(f2,k,1,1).T\n",
    "magF2 = np.absolute(F2)"
   ]
  },
  {
   "cell_type": "code",
   "execution_count": 11,
   "metadata": {
    "collapsed": true
   },
   "outputs": [],
   "source": [
    "ax2, (fig3, fig4) = plt.subplots(nrows = 2)\n",
    "fig3.plot(t,f2)\n",
    "fig4.plot(w,magF2)\n",
    "fig4.set_xlim([-10, 10])\n",
    "fig3.xaxis.set_ticks(np.arange(-2*np.pi, 2*np.pi, 10))\n",
    "fig4.xaxis.set_ticks(np.arange(-10, 10, 1))\n",
    "plt.xticks(np.arange(-10, 10, 1))\n",
    "ax2.savefig('DFT_sinc.pdf')\n",
    "plt.close()"
   ]
  },
  {
   "cell_type": "code",
   "execution_count": 12,
   "metadata": {
    "collapsed": true
   },
   "outputs": [],
   "source": [
    "fft_x = np.fft.fft(f2, axis = 0) / N # FFT Normalized\n",
    "freq = 2*np.pi*np.fft.fftfreq(N, d = Ts) # Recuperamos las frecuencias\n",
    "ax3, (fig5, fig6) = plt.subplots(nrows = 2)\n",
    "fig5.plot(t,f2)\n",
    "fig6.plot(np.array([freq]).T,np.absolute(fft_x))\n",
    "fig6.set_xlim([-10, 10])\n",
    "plt.xticks(np.arange(-10, 10, 1.0))\n",
    "ax3.savefig('DFT_sinc_fft.pdf')\n",
    "plt.close()"
   ]
  },
  {
   "cell_type": "code",
   "execution_count": 13,
   "metadata": {
    "collapsed": true
   },
   "outputs": [],
   "source": [
    "secret_mag = np.genfromtxt('magnitude.dat')\n",
    "secret_ph = np.genfromtxt('phase.dat')"
   ]
  },
  {
   "cell_type": "code",
   "execution_count": 14,
   "metadata": {
    "collapsed": true
   },
   "outputs": [],
   "source": [
    "lenX = secret_mag.shape[0]\n",
    "lenY = secret_mag.shape[1]\n",
    "secret_coeff = np.array([[secret_mag[j,i]*np.exp(1j*secret_ph[j,i]) for i in range(0,lenY)] for j in range(0,lenX)])"
   ]
  },
  {
   "cell_type": "code",
   "execution_count": 15,
   "metadata": {
    "collapsed": true
   },
   "outputs": [],
   "source": [
    "#secret = np.array([[DFT(secret_coeff,np.array([l,k]),-1,2) for k in range(0,lenY)] for l in range(0,lenX)])"
   ]
  },
  {
   "cell_type": "code",
   "execution_count": 16,
   "metadata": {
    "collapsed": true
   },
   "outputs": [],
   "source": [
    "secret = np.fft.ifft2(secret_coeff)\n",
    "plt.imshow(np.absolute(secret))\n",
    "plt.axis('off')\n",
    "plt.savefig('secret.jpg')"
   ]
  },
  {
   "cell_type": "code",
   "execution_count": null,
   "metadata": {
    "collapsed": true
   },
   "outputs": [],
   "source": []
  }
 ],
 "metadata": {
  "kernelspec": {
   "display_name": "Python 3",
   "language": "python",
   "name": "python3"
  },
  "language_info": {
   "codemirror_mode": {
    "name": "ipython",
    "version": 3
   },
   "file_extension": ".py",
   "mimetype": "text/x-python",
   "name": "python",
   "nbconvert_exporter": "python",
   "pygments_lexer": "ipython3",
   "version": "3.5.2"
  }
 },
 "nbformat": 4,
 "nbformat_minor": 2
}
