{
 "cells": [
  {
   "cell_type": "code",
   "execution_count": 1,
   "metadata": {},
   "outputs": [
    {
     "name": "stdout",
     "output_type": "stream",
     "text": [
      "Populating the interactive namespace from numpy and matplotlib\n"
     ]
    }
   ],
   "source": [
    "import numpy as np\n",
    "%pylab inline"
   ]
  },
  {
   "cell_type": "code",
   "execution_count": 20,
   "metadata": {
    "collapsed": true
   },
   "outputs": [],
   "source": [
    "def test_function(x):\n",
    "    return exp(x)"
   ]
  },
  {
   "cell_type": "code",
   "execution_count": 3,
   "metadata": {
    "collapsed": true
   },
   "outputs": [],
   "source": [
    "def newton_interpolation(points,images):\n",
    "    newton_coeff = images\n",
    "    order = len(points)-1\n",
    "    for k in range(1,order+1):\n",
    "        for i in range(0,order-k+1):\n",
    "            newton_coeff[i] = (newton_coeff[i+1]-newton_coeff[i])/(points[i+k]-points[i])\n",
    "    return newton_coeff"
   ]
  },
  {
   "cell_type": "code",
   "execution_count": 4,
   "metadata": {
    "collapsed": true
   },
   "outputs": [],
   "source": [
    "def newton_approximation(newton_coeff,points_interpolation,points_evaluation):\n",
    "    approximation = newton_coeff[0];\n",
    "    for i in range(1,len(newton_coeff)):\n",
    "        approximation = newton_coeff[i] + (points_evaluation-points_interpolation[i])*approximation\n",
    "    return approximation"
   ]
  },
  {
   "cell_type": "code",
   "execution_count": 22,
   "metadata": {},
   "outputs": [
    {
     "data": {
      "image/png": "[encoded data removed]",
      "text/plain": [
       "<matplotlib.figure.Figure at 0x7fb67b690d68>"
      ]
     },
     "metadata": {},
     "output_type": "display_data"
    }
   ],
   "source": [
    "points_interpolation = linspace(0,2*pi,4)\n",
    "images_interpolation = test_function(points_interpolation)\n",
    "newton_coeff = newton_interpolation(points_interpolation,images_interpolation)\n",
    "points = linspace(0,2*pi,100)\n",
    "images = test_function(points)\n",
    "approx_images = newton_approximation(newton_coeff,points_interpolation,points)\n",
    "plot(points,images)\n",
    "plot(points,approx_images)\n",
    "show()"
   ]
  },
  {
   "cell_type": "code",
   "execution_count": null,
   "metadata": {
    "collapsed": true
   },
   "outputs": [],
   "source": []
  }
 ],
 "metadata": {
  "kernelspec": {
   "display_name": "Python 3",
   "language": "python",
   "name": "python3"
  },
  "language_info": {
   "codemirror_mode": {
    "name": "ipython",
    "version": 3
   },
   "file_extension": ".py",
   "mimetype": "text/x-python",
   "name": "python",
   "nbconvert_exporter": "python",
   "pygments_lexer": "ipython3",
   "version": "3.5.2"
  }
 },
 "nbformat": 4,
 "nbformat_minor": 2
}
