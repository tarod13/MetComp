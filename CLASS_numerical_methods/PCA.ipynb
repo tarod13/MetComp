{
 "cells": [
  {
   "cell_type": "code",
   "execution_count": 1,
   "metadata": {
    "collapsed": true
   },
   "outputs": [],
   "source": [
    "import numpy as np\n",
    "import numpy.linalg as lin"
   ]
  },
  {
   "cell_type": "code",
   "execution_count": 2,
   "metadata": {
    "collapsed": true
   },
   "outputs": [],
   "source": [
    "def PCA_reduction(sample):\n",
    "    cov_matrix = covariance_matrix(sample)\n",
    "    [eigenval,eigenvec] = lin.eig(cov_matrix)\n",
    "    eigenval = np.array([eigenval])\n",
    "    eigen = np.append(np.transpose(eigenval),np.transpose(eigenvec),axis=1)\n",
    "    sorted_indexes = eigen[:,0].argsort()\n",
    "    sorted_indexes = sorted_indexes[::-1]\n",
    "    eigen_sorted = eigen[sorted_indexes]\n",
    "    eigenval_sorted = np.transpose(np.array([eigen_sorted[:,0]]))\n",
    "    eigenvec_sorted = eigen_sorted[:,1:]\n",
    "    \n",
    "    weight = 0.0\n",
    "    n_eigenval = 0\n",
    "    sum_eigenval = np.sum(eigenval)\n",
    "    while weight < 0.9:\n",
    "        weight = weight + eigenval_sorted[n_eigenval]/sum_eigenval\n",
    "        n_eigenval = n_eigenval + 1\n",
    "    reduced_indexes = sorted_indexes[0:n_eigenval]+1\n",
    "    reduced_eigenval = eigenval_sorted[:,0:n_eigenval]\n",
    "    reduced_eigenvec = eigenvec_sorted[0:n_eigenval,:]\n",
    "    \n",
    "    projected_sample = np.dot(reduced_eigenvec,sample)\n",
    "    return(projected_sample,eigenvec,reduced_indexes)"
   ]
  },
  {
   "cell_type": "code",
   "execution_count": 3,
   "metadata": {
    "collapsed": true
   },
   "outputs": [],
   "source": [
    "def covariance_matrix(sample):\n",
    "    centered_sample = sample-expected_value(sample)\n",
    "    summ = np.zeros([sample.shape[0],sample.shape[0]])\n",
    "    for i in range(0,sample.shape[1]):\n",
    "        x = np.transpose(np.array([centered_sample[:,i]]))\n",
    "        summ = summ + np.dot(x,np.transpose(x))        \n",
    "    return summ/(sample.shape[1]-1)    "
   ]
  },
  {
   "cell_type": "code",
   "execution_count": 4,
   "metadata": {
    "collapsed": true
   },
   "outputs": [],
   "source": [
    "def expected_value(sample):\n",
    "    summ = np.transpose(np.array([np.sum(sample,axis=1)]))\n",
    "    return summ/sample.shape[1]    "
   ]
  },
  {
   "cell_type": "code",
   "execution_count": 5,
   "metadata": {
    "collapsed": true
   },
   "outputs": [],
   "source": [
    "sample = np.array([[10,-2,-2,4,9],[-8,0,6,8,-4],[1,2,7,3,4],[2,1,-2,9,-3]])\n",
    "sample_mean_value = expected_value(sample) \n",
    "sample_cov_matrix = covariance_matrix(sample)\n",
    "[sample_PCAproyection,sample_components,principal_components] = PCA_reduction(sample)"
   ]
  },
  {
   "cell_type": "code",
   "execution_count": 6,
   "metadata": {},
   "outputs": [
    {
     "name": "stdout",
     "output_type": "stream",
     "text": [
      "El valor medio de la muestra es:\n",
      " [[ 3.8]\n",
      " [ 0.4]\n",
      " [ 3.4]\n",
      " [ 1.4]] \n",
      "\n",
      "La matriz de covarianza de la muestra es:\n",
      " [[ 33.2  -25.9   -6.15   1.1 ]\n",
      " [-25.9   44.8    8.8   13.3 ]\n",
      " [ -6.15   8.8    5.3   -4.7 ]\n",
      " [  1.1   13.3   -4.7   22.3 ]] \n",
      "\n",
      "La(s) componente(s) es(son):\n",
      " [[ 0.58023591 -0.47733905  0.64259504 -0.15015106]\n",
      " [-0.77728721 -0.19633447  0.4696069  -0.36979282]\n",
      " [-0.14895711  0.22999733  0.49764639  0.82295874]\n",
      " [-0.19225675 -0.82504632 -0.34480292  0.40428561]] \n",
      "\n",
      "La(s) componente(s) principal(es) de la muestra es(son):\n",
      " [1 2] \n",
      "\n",
      "La proyeccion de la muestra sobre la(s) componente(s) principal(es) es:\n",
      " [[ 11.48718618  -1.65064279  -6.48238138  -6.07453614   8.31221383]\n",
      " [ -4.62281006   0.58962644   3.03674526 -10.21545686  -0.11558527]]\n"
     ]
    }
   ],
   "source": [
    "print('El valor medio de la muestra es:\\n',sample_mean_value,'\\n')\n",
    "print('La matriz de covarianza de la muestra es:\\n',sample_cov_matrix,'\\n')\n",
    "print('La(s) componente(s) es(son):\\n',sample_components,'\\n')\n",
    "print('La(s) componente(s) principal(es) de la muestra es(son):\\n',principal_components,'\\n')\n",
    "print('La proyeccion de la muestra sobre la(s) componente(s) principal(es) es:\\n',sample_PCAproyection)"
   ]
  },
  {
   "cell_type": "code",
   "execution_count": 7,
   "metadata": {
    "collapsed": true
   },
   "outputs": [],
   "source": [
    "sample_temp = np.genfromtxt('room-temperature.csv', delimiter=',', skip_header = 1, usecols = (1,2,3,4))\n",
    "sample_temp = np.transpose(sample_temp)\n",
    "sample_temp_mean_value = expected_value(sample_temp) \n",
    "sample_temp_cov_matrix = covariance_matrix(sample_temp)\n",
    "[sample_temp_PCAproyection,sample_temp_components,principal_components_temp] = PCA_reduction(sample_temp)"
   ]
  },
  {
   "cell_type": "code",
   "execution_count": 8,
   "metadata": {},
   "outputs": [
    {
     "name": "stdout",
     "output_type": "stream",
     "text": [
      "El valor medio de la muestra es:\n",
      " [[ 294.50763889]\n",
      " [ 294.62847222]\n",
      " [ 295.0625    ]\n",
      " [ 294.97708333]] \n",
      "\n",
      "La matriz de covarianza de la muestra es:\n",
      " [[ 2.70448669  2.4044663   1.45784091  1.64101544]\n",
      " [ 2.4044663   2.94163122  1.60030594  1.80590181]\n",
      " [ 1.45784091  1.60030594  2.52082168  2.31242133]\n",
      " [ 1.64101544  1.80590181  2.31242133  2.71436626]] \n",
      "\n",
      "La(s) componente(s) es(son):\n",
      " [[-0.49391128 -0.50203076 -0.70984479  0.01171101]\n",
      " [-0.52817872 -0.47304176  0.70076399 -0.07866743]\n",
      " [-0.46980861  0.54077759 -0.06702403 -0.69451224]\n",
      " [-0.50631883  0.48141065  0.02362183  0.71507135]] \n",
      "\n",
      "La(s) componente(s) principal(es) de la muestra es(son):\n",
      " [1 2] \n",
      "\n",
      "La proyeccion de la muestra sobre la(s) componente(s) principal(es) es:\n",
      " [[-591.66334564 -592.02827312 -593.79253149 -592.95674687 -593.78968504\n",
      "  -593.24863804 -594.87692922 -592.82330749 -594.9829904  -594.6800733\n",
      "  -593.06340963 -593.17774121 -592.8415019  -590.82540869 -592.49466574\n",
      "  -590.87553132 -589.87897535 -589.98722252 -589.22733142 -589.53162994\n",
      "  -588.13427152 -587.28593706 -588.33066652 -586.36626797 -586.72980167\n",
      "  -586.54297649 -585.86524135 -585.616242   -584.82833353 -585.24584406\n",
      "  -584.28674335 -585.78755152 -585.17800925 -585.58042794 -586.43385534\n",
      "  -586.67776154 -586.40882852 -586.29143697 -587.54316218 -588.8194512\n",
      "  -588.76855746 -588.79317308 -589.40002236 -590.34141067 -590.92004304\n",
      "  -589.78958859 -589.95907706 -591.10560454 -590.18413915 -589.88036042\n",
      "  -586.74987093 -587.73141867 -588.60372959 -588.51885547 -589.26088135\n",
      "  -589.35413287 -589.20507292 -589.75538367 -588.65659558 -588.07746263\n",
      "  -592.13049449 -592.11040779 -590.93008662 -590.29616725 -591.4714044\n",
      "  -589.78616002 -588.8049291  -588.47809765 -588.33541581 -587.53140084\n",
      "  -586.35176879 -586.67607223 -586.7726687  -585.60615238 -585.33515958\n",
      "  -586.28985074 -585.82178139 -585.04786466 -584.68610207 -584.98709342\n",
      "  -585.12929967 -585.38285085 -585.29691213 -586.59367962 -587.51184631\n",
      "  -585.74771946 -587.04404915 -588.20151733 -587.86009254 -587.75949106\n",
      "  -589.84116388 -589.64990806 -589.85706922 -591.04930977 -590.76479189\n",
      "  -592.47854849 -593.11376933 -593.20393733 -593.5567319  -593.22258421\n",
      "  -593.9188931  -593.49080864 -594.12343047 -594.22229472 -593.95741295\n",
      "  -593.79886518 -593.09123457 -593.16154218 -591.30540317 -592.49175879\n",
      "  -591.19456567 -590.95612971 -591.46396169 -589.83959185 -590.95475904\n",
      "  -588.63690545 -587.38832222 -587.52735121 -587.01004377 -585.34077414\n",
      "  -586.32846887 -585.6945937  -585.08848871 -586.13007458 -585.07609212\n",
      "  -585.31276935 -584.97882302 -585.20733476 -585.68349835 -586.06869261\n",
      "  -587.45607002 -584.75130437 -585.68675077 -587.61848778 -587.69193715\n",
      "  -588.1478965  -588.83814228 -588.7094311  -590.67789556 -589.91846356\n",
      "  -589.80230039 -590.67737576 -591.18410948 -592.48684389]\n",
      " [  13.91110392   13.90920925   13.4921468    14.90382651   14.64651465\n",
      "    13.46011359   14.30661025   14.26146813   13.73491459   13.29005294\n",
      "    14.00465495   13.68671264   13.0190726    14.96590205   13.87408823\n",
      "    13.81900225   14.29310179   13.62596088   14.75209129   13.95307654\n",
      "    13.70863496   13.87367827   13.71044763   13.70999211   13.91955801\n",
      "    13.19965288   13.46176472   14.07142034   13.55767666   14.42905635\n",
      "    14.31125634   14.5565348    16.34835368   14.90243985   14.36155228\n",
      "    13.78899769   13.77466412   14.68281017   14.2043593    14.03658797\n",
      "    13.24398656   14.26309861   13.99332934   14.54478365   14.70880756\n",
      "    15.46996285   14.69946641   15.20969566   15.85523026   16.93754294\n",
      "    19.94554593   18.48753782   18.91578653   18.55953657   18.5156084\n",
      "    18.23571799   17.50992665   18.59784468   18.71003535   17.51650687\n",
      "    14.84411783   14.52993335   13.69392402   14.41293184   13.10762694\n",
      "    13.52290517   13.78830415   15.22953485   13.20091685   12.20685869\n",
      "    13.58238118   13.70832474   14.04210706   14.50621487   12.95122617\n",
      "    12.50662073   13.83222787   14.19521302   13.45554625   13.13489794\n",
      "    13.51614825   13.73209309   13.4271104    13.54876306   13.20838797\n",
      "    14.46164514   14.02796927   13.4879726    14.37995037   15.1689044\n",
      "    13.38015576   13.92133106   14.32872195   13.12964593   14.86245458\n",
      "    13.96677346   14.55882185   13.73223259   15.20125916   13.67778864\n",
      "    14.13754297   14.90949183   14.08505058   13.71261383   13.49437615\n",
      "    13.21464667   13.25687903   14.3901717    14.75499111   14.15448725\n",
      "    14.17117867   14.04924868   14.46172087   14.18054093   14.72012537\n",
      "    14.3095659    13.92578243   14.01617835   15.08218385   14.80283861\n",
      "    13.82946191   13.18439996   14.06737479   13.16096294   12.8496769\n",
      "    14.5341236    12.88114459   14.16048023   12.93901504   14.60653902\n",
      "    16.00129695   13.93226736   14.73646131   13.79395906   13.72627418\n",
      "    13.99226116   12.61807424   13.28967097   13.71884543   13.9155617\n",
      "    13.88963606   13.43554751   14.35161379   13.60266369]]\n"
     ]
    }
   ],
   "source": [
    "print('El valor medio de la muestra es:\\n',sample_temp_mean_value,'\\n')\n",
    "print('La matriz de covarianza de la muestra es:\\n',sample_temp_cov_matrix,'\\n')\n",
    "print('La(s) componente(s) es(son):\\n',sample_temp_components,'\\n')\n",
    "print('La(s) componente(s) principal(es) de la muestra es(son):\\n',principal_components_temp,'\\n')\n",
    "print('La proyeccion de la muestra sobre la(s) componente(s) principal(es) es:\\n',sample_temp_PCAproyection)"
   ]
  },
  {
   "cell_type": "code",
   "execution_count": null,
   "metadata": {
    "collapsed": true
   },
   "outputs": [],
   "source": []
  }
 ],
 "metadata": {
  "kernelspec": {
   "display_name": "Python 3",
   "language": "python",
   "name": "python3"
  },
  "language_info": {
   "codemirror_mode": {
    "name": "ipython",
    "version": 3
   },
   "file_extension": ".py",
   "mimetype": "text/x-python",
   "name": "python",
   "nbconvert_exporter": "python",
   "pygments_lexer": "ipython3",
   "version": "3.5.2"
  }
 },
 "nbformat": 4,
 "nbformat_minor": 2
}
