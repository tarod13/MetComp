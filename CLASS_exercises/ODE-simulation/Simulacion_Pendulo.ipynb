{
 "cells": [
  {
   "cell_type": "code",
   "execution_count": 10,
   "metadata": {
    "collapsed": true
   },
   "outputs": [],
   "source": [
    "import numpy as np\n",
    "import pylab as plt\n",
    "import matplotlib.animation as animation"
   ]
  },
  {
   "cell_type": "code",
   "execution_count": 2,
   "metadata": {
    "collapsed": true
   },
   "outputs": [],
   "source": [
    "def x1_prime(t,x1,x2):\n",
    "    return(x2)"
   ]
  },
  {
   "cell_type": "code",
   "execution_count": 3,
   "metadata": {
    "collapsed": true
   },
   "outputs": [],
   "source": [
    "def x2_prime(t,x1,x2):\n",
    "    return(np.cos(x1)*grav/rad-x2*gamma/(mass*rad))"
   ]
  },
  {
   "cell_type": "code",
   "execution_count": 4,
   "metadata": {
    "collapsed": true
   },
   "outputs": [],
   "source": [
    "def second_order_runge_kutta_4_solver(x10,x20,t):\n",
    "    x1 = np.zeros([t.shape[0],1])\n",
    "    x2 = np.zeros([t.shape[0],1])\n",
    "    x1[0,0] = x10\n",
    "    x2[0,0] = x20\n",
    "    for i in range (1,t.shape[0]):\n",
    "        h = t[i,0]-t[i-1,0]\n",
    "        k11 = h*x1_prime(t[i-1,0],x1[i-1,0],x2[i-1,0])\n",
    "        k12 = h*x2_prime(t[i-1,0],x1[i-1,0],x2[i-1,0])\n",
    "        k21 = h*x1_prime(t[i-1,0]+h/2,x1[i-1,0]+k11/2,x2[i-1,0]+k12/2)\n",
    "        k22 = h*x2_prime(t[i-1,0]+h/2,x1[i-1,0]+k11/2,x2[i-1,0]+k12/2)\n",
    "        k31 = h*x1_prime(t[i-1,0]+h/2,x1[i-1,0]+k21/2,x2[i-1,0]+k22/2)\n",
    "        k32 = h*x2_prime(t[i-1,0]+h/2,x1[i-1,0]+k21/2,x2[i-1,0]+k22/2)\n",
    "        k41 = h*x1_prime(t[i-1,0]+h,x1[i-1,0]+k31,x2[i-1,0]+k32)\n",
    "        k42 = h*x2_prime(t[i-1,0]+h,x1[i-1,0]+k31,x2[i-1,0]+k32)\n",
    "        x1[i,0] = x1[i-1,0] + (k11+2*k21+2*k31+k41)/6\n",
    "        x2[i,0] = x2[i-1,0] + (k12+2*k22+2*k32+k42)/6\n",
    "    return(x1,x2)"
   ]
  },
  {
   "cell_type": "code",
   "execution_count": 5,
   "metadata": {
    "collapsed": true
   },
   "outputs": [],
   "source": [
    "def init():\n",
    "    x = np.linspace(0, rad*np.cos(x10), anim_points)\n",
    "    y = np.negative(np.linspace(0, rad*np.sin(x10), anim_points))\n",
    "    string.set_data(x, y)\n",
    "    ball.set_data(rad*np.cos(x10), rad*np.sin(x10))\n",
    "    return string, ball"
   ]
  },
  {
   "cell_type": "code",
   "execution_count": 6,
   "metadata": {
    "collapsed": true
   },
   "outputs": [],
   "source": [
    "def animate(i):\n",
    "    x = np.linspace(0, rad*np.cos(pendulum_theta[i]), anim_points)\n",
    "    y = np.negative(np.linspace(0, rad*np.sin(pendulum_theta[i]), anim_points))\n",
    "    string.set_data(x, y)\n",
    "    ball.set_data(rad*np.cos(pendulum_theta[i]), rad*np.sin(pendulum_theta[i]))\n",
    "    return string, ball"
   ]
  },
  {
   "cell_type": "code",
   "execution_count": 7,
   "metadata": {},
   "outputs": [],
   "source": [
    "grav = 9.81\n",
    "rad = 1\n",
    "mass = 1\n",
    "gamma = 0\n",
    "x10 = 0\n",
    "x20 = 0\n",
    "t_0 = 0\n",
    "t_end = 100\n",
    "n_points = 200\n",
    "anim_points = 1000"
   ]
  },
  {
   "cell_type": "code",
   "execution_count": 8,
   "metadata": {},
   "outputs": [],
   "source": [
    "t = np.transpose(np.array([np.linspace(t_0,t_end,n_points)]))\n",
    "pendulum_theta, pendulum_omega = second_order_runge_kutta_4_solver(x10,x20,t)"
   ]
  },
  {
   "cell_type": "code",
   "execution_count": 13,
   "metadata": {},
   "outputs": [
    {
     "data": {
      "image/png": "[encoded data removed]",
      "text/plain": [
       "<matplotlib.figure.Figure at 0x7f1409d88e48>"
      ]
     },
     "metadata": {},
     "output_type": "display_data"
    }
   ],
   "source": [
    "fig1 = plt.figure()\n",
    "ax1 = plt.axes(xlim=(-2, 2), ylim=(-2, 2))\n",
    "string, = ax1.plot([], [], 'o-', lw=2)\n",
    "ball, = ax1.plot([], [], 'o', lw=2)\n",
    "pivot, = ax1.plot([], [], 'o', lw=2)\n",
    "pendulum_animation = animation.FuncAnimation(fig1, animate, init_func=init,\n",
    "                               frames=100, interval=20, blit=True)\n",
    "plt.show()"
   ]
  },
  {
   "cell_type": "code",
   "execution_count": null,
   "metadata": {
    "collapsed": true
   },
   "outputs": [],
   "source": []
  }
 ],
 "metadata": {
  "kernelspec": {
   "display_name": "Python 3",
   "language": "python",
   "name": "python3"
  },
  "language_info": {
   "codemirror_mode": {
    "name": "ipython",
    "version": 3
   },
   "file_extension": ".py",
   "mimetype": "text/x-python",
   "name": "python",
   "nbconvert_exporter": "python",
   "pygments_lexer": "ipython3",
   "version": "3.5.2"
  }
 },
 "nbformat": 4,
 "nbformat_minor": 2
}
