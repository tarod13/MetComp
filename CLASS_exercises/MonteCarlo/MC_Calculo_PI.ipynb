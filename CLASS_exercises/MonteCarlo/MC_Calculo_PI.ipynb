{
 "cells": [
  {
   "cell_type": "code",
   "execution_count": 1,
   "metadata": {
    "collapsed": true
   },
   "outputs": [],
   "source": [
    "import numpy as np\n",
    "import pylab as plt"
   ]
  },
  {
   "cell_type": "code",
   "execution_count": 3,
   "metadata": {
    "collapsed": true
   },
   "outputs": [],
   "source": [
    "n_puntos = 1000\n",
    "lado_cuadrado = 2.0"
   ]
  },
  {
   "cell_type": "code",
   "execution_count": 5,
   "metadata": {},
   "outputs": [],
   "source": [
    "puntos = lado_cuadrado*np.random.rand(n_puntos,2)-1\n",
    "radios = np.sqrt(puntos[:,0]**2 + puntos[:,1]**2)\n",
    "n_puntos_circulo = 0\n",
    "for radio in radios:\n",
    "    if radio <= 1:\n",
    "        n_puntos_circulo = n_puntos_circulo + 1\n",
    "aproximacion_pi = n_puntos_circulo/n_puntos*lado_cuadrado**2"
   ]
  },
  {
   "cell_type": "code",
   "execution_count": 6,
   "metadata": {},
   "outputs": [
    {
     "name": "stdout",
     "output_type": "stream",
     "text": [
      "3.188\n"
     ]
    }
   ],
   "source": [
    "print(aproximacion_pi)"
   ]
  },
  {
   "cell_type": "code",
   "execution_count": null,
   "metadata": {
    "collapsed": true
   },
   "outputs": [],
   "source": []
  }
 ],
 "metadata": {
  "kernelspec": {
   "display_name": "Python 3",
   "language": "python",
   "name": "python3"
  },
  "language_info": {
   "codemirror_mode": {
    "name": "ipython",
    "version": 3
   },
   "file_extension": ".py",
   "mimetype": "text/x-python",
   "name": "python",
   "nbconvert_exporter": "python",
   "pygments_lexer": "ipython3",
   "version": "3.5.2"
  }
 },
 "nbformat": 4,
 "nbformat_minor": 2
}
