{
 "cells": [
  {
   "cell_type": "code",
   "execution_count": 1,
   "metadata": {
    "collapsed": true
   },
   "outputs": [],
   "source": [
    "import numpy as np\n",
    "import pylab as plt"
   ]
  },
  {
   "cell_type": "code",
   "execution_count": 2,
   "metadata": {
    "collapsed": true
   },
   "outputs": [],
   "source": [
    "def simple_function(x):\n",
    "    return np.exp(-x**2)"
   ]
  },
  {
   "cell_type": "code",
   "execution_count": 3,
   "metadata": {
    "collapsed": true
   },
   "outputs": [],
   "source": [
    "def nasty_function(x):\n",
    "    x_0 = 3.0\n",
    "    a = 0.01\n",
    "    return np.exp(-(x**2))/((x-x_0)**2 + a**2)"
   ]
  },
  {
   "cell_type": "code",
   "execution_count": 4,
   "metadata": {
    "collapsed": true
   },
   "outputs": [],
   "source": [
    "n_points = 100000\n",
    "x_min = -6\n",
    "x_max = 6\n",
    "x0 = x_min+np.random.rand()*(x_max-x_min)\n",
    "random_walk_simple = [x0]\n",
    "random_walk_nasty = [x0]\n",
    "normal_std = 0.04"
   ]
  },
  {
   "cell_type": "code",
   "execution_count": 5,
   "metadata": {
    "collapsed": true
   },
   "outputs": [],
   "source": [
    "for point in range(0,n_points-1):\n",
    "    x0_simple = random_walk_simple[point]    \n",
    "    xi_simple = np.random.normal(x0_simple, normal_std)\n",
    "    alpha_simple = np.divide(simple_function(xi_simple),simple_function(x0_simple))\n",
    "    if alpha_simple > 1 or alpha_simple > np.random.rand():\n",
    "        random_walk_simple.append(xi_simple)    \n",
    "    else: \n",
    "        random_walk_simple.append(x0_simple)\n",
    "    \n",
    "    x0_nasty = random_walk_nasty[point]\n",
    "    xi_nasty = np.random.normal(x0_nasty, normal_std)\n",
    "    alpha_nasty = np.divide(nasty_function(xi_nasty),nasty_function(x0_nasty))\n",
    "    if alpha_nasty > 1 or alpha_nasty > np.random.rand():\n",
    "        random_walk_nasty.append(xi_nasty)    \n",
    "    else: \n",
    "        random_walk_nasty.append(x0_nasty)"
   ]
  },
  {
   "cell_type": "code",
   "execution_count": 6,
   "metadata": {
    "collapsed": true
   },
   "outputs": [],
   "source": [
    "x = np.linspace(x_min,x_max,n_points)\n",
    "simple_f = simple_function(x)\n",
    "nasty_f = nasty_function(x)\n",
    "simple_area = sum(simple_f*(x_max-x_min)/(n_points-1))\n",
    "nasty_area = sum(nasty_f*(x_max-x_min)/(n_points-1))\n",
    "random_walk_simple = np.array(random_walk_simple)\n",
    "random_walk_nasty = np.array(random_walk_nasty)"
   ]
  },
  {
   "cell_type": "code",
   "execution_count": 7,
   "metadata": {
    "collapsed": true
   },
   "outputs": [],
   "source": [
    "fig1, ax1 = plt.subplots(nrows=2)\n",
    "ax1[0].plot(x,simple_f/simple_area,'r')\n",
    "ax1[1].plot(x,nasty_f/nasty_area,'k')\n",
    "ax1[0].hist(random_walk_simple, 1000 ,normed=True)\n",
    "ax1[1].hist(random_walk_nasty, 1000, normed=True)\n",
    "fig1.savefig('MCMC_Distributions')\n",
    "plt.close()"
   ]
  },
  {
   "cell_type": "code",
   "execution_count": null,
   "metadata": {
    "collapsed": true
   },
   "outputs": [],
   "source": []
  }
 ],
 "metadata": {
  "kernelspec": {
   "display_name": "Python 3",
   "language": "python",
   "name": "python3"
  },
  "language_info": {
   "codemirror_mode": {
    "name": "ipython",
    "version": 3
   },
   "file_extension": ".py",
   "mimetype": "text/x-python",
   "name": "python",
   "nbconvert_exporter": "python",
   "pygments_lexer": "ipython3",
   "version": "3.5.2"
  }
 },
 "nbformat": 4,
 "nbformat_minor": 2
}
