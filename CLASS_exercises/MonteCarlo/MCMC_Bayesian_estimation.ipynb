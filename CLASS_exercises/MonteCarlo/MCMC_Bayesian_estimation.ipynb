{
 "cells": [
  {
   "cell_type": "code",
   "execution_count": 1,
   "metadata": {
    "collapsed": true
   },
   "outputs": [],
   "source": [
    "import numpy as np\n",
    "import pylab as plt"
   ]
  },
  {
   "cell_type": "code",
   "execution_count": 2,
   "metadata": {
    "collapsed": true
   },
   "outputs": [],
   "source": [
    "observaciones = np.genfromtxt('movimiento.dat',delimiter=' ')"
   ]
  },
  {
   "cell_type": "code",
   "execution_count": 3,
   "metadata": {},
   "outputs": [
    {
     "name": "stdout",
     "output_type": "stream",
     "text": [
      "(100, 2)\n"
     ]
    }
   ],
   "source": [
    "print(observaciones.shape)"
   ]
  },
  {
   "cell_type": "code",
   "execution_count": 4,
   "metadata": {
    "collapsed": true
   },
   "outputs": [],
   "source": [
    "x_obs = observaciones[:,0]\n",
    "y_obs = observaciones[:,1]"
   ]
  },
  {
   "cell_type": "code",
   "execution_count": 5,
   "metadata": {},
   "outputs": [
    {
     "data": {
      "image/png": "[encoded data removed]",
      "text/plain": [
       "<matplotlib.figure.Figure at 0x7fbf5d770b70>"
      ]
     },
     "metadata": {},
     "output_type": "display_data"
    }
   ],
   "source": [
    "fig1, ax1 = plt.subplots()\n",
    "ax1.scatter(x_obs,y_obs)\n",
    "plt.show()\n",
    "fig1.savefig('scatter_movimiento.pdf')\n",
    "plt.close()"
   ]
  },
  {
   "cell_type": "code",
   "execution_count": 6,
   "metadata": {
    "collapsed": true
   },
   "outputs": [],
   "source": [
    "def funcion_estimada(x,coef):\n",
    "    return -coef[0]*(x-coef[1])**2 + coef[2] "
   ]
  },
  {
   "cell_type": "code",
   "execution_count": 7,
   "metadata": {},
   "outputs": [],
   "source": [
    "def likelihood(y_obs,y_est):\n",
    "    chi2 = np.sum(((y_obs-y_est)/np.std(y_obs))**2)\n",
    "    l = np.exp(-chi2/2.0)\n",
    "    l_min = 1e-50\n",
    "    if l < l_min:\n",
    "        return l_min\n",
    "    else:\n",
    "        return l  "
   ]
  },
  {
   "cell_type": "code",
   "execution_count": 8,
   "metadata": {},
   "outputs": [
    {
     "name": "stdout",
     "output_type": "stream",
     "text": [
      "0.00\n"
     ]
    },
    {
     "data": {
      "image/png": "[encoded data removed]",
      "text/plain": [
       "<matplotlib.figure.Figure at 0x7fbf5b44f358>"
      ]
     },
     "metadata": {},
     "output_type": "display_data"
    }
   ],
   "source": [
    "n_puntos = 100000\n",
    "coef = [np.random.rand(3)]\n",
    "coef[0][1]*=10\n",
    "coef[0][2]*=150\n",
    "y_est = funcion_estimada(x_obs,coef[0])\n",
    "lklhood = [likelihood(y_obs,y_est)]\n",
    "print(\"%.2f\" % lklhood[0])\n",
    "plt.scatter(x_obs,y_est)\n",
    "plt.show()\n",
    "plt.close()"
   ]
  },
  {
   "cell_type": "code",
   "execution_count": 9,
   "metadata": {},
   "outputs": [],
   "source": [
    "for punto in range(0,n_puntos):\n",
    "    coef_nuevo = np.random.normal(coef[punto], [20,30,30]) \n",
    "    y_est_nuevo = funcion_estimada(x_obs,coef_nuevo)\n",
    "    lklhood_nuevo = likelihood(y_obs,y_est_nuevo)   \n",
    "    alpha = lklhood_nuevo/lklhood[punto]   \n",
    "    if alpha >= 1:\n",
    "        coef.append(coef_nuevo)\n",
    "        lklhood.append(lklhood_nuevo)\n",
    "    elif alpha > np.random.rand():\n",
    "        coef.append(coef_nuevo)\n",
    "        lklhood.append(lklhood_nuevo)\n",
    "    else:\n",
    "        coef.append(coef[punto])\n",
    "        lklhood.append(lklhood[punto])"
   ]
  },
  {
   "cell_type": "code",
   "execution_count": 10,
   "metadata": {
    "collapsed": true
   },
   "outputs": [],
   "source": [
    "max_id = np.argmax(lklhood)\n",
    "coef_max = coef[max_id]\n",
    "lklh_max = lklhood[max_id]\n",
    "y_est_max = funcion_estimada(x_obs,coef_max)"
   ]
  },
  {
   "cell_type": "code",
   "execution_count": 11,
   "metadata": {},
   "outputs": [
    {
     "data": {
      "image/png": "[encoded data removed]",
      "text/plain": [
       "<matplotlib.figure.Figure at 0x7fbf5b1a4048>"
      ]
     },
     "metadata": {},
     "output_type": "display_data"
    }
   ],
   "source": [
    "fig2, ax2 = plt.subplots()\n",
    "ax2.scatter(x_obs,y_obs,s=0.5)\n",
    "ax2.plot(x_obs,y_est_max)\n",
    "plt.show()\n",
    "fig2.savefig('estimacion_movimiento.pdf')\n",
    "plt.close()"
   ]
  },
  {
   "cell_type": "code",
   "execution_count": 12,
   "metadata": {},
   "outputs": [
    {
     "name": "stdout",
     "output_type": "stream",
     "text": [
      "0.142998296983\n"
     ]
    }
   ],
   "source": [
    "print(lklh_max)"
   ]
  },
  {
   "cell_type": "code",
   "execution_count": null,
   "metadata": {
    "collapsed": true
   },
   "outputs": [],
   "source": []
  }
 ],
 "metadata": {
  "kernelspec": {
   "display_name": "Python 3",
   "language": "python",
   "name": "python3"
  },
  "language_info": {
   "codemirror_mode": {
    "name": "ipython",
    "version": 3
   },
   "file_extension": ".py",
   "mimetype": "text/x-python",
   "name": "python",
   "nbconvert_exporter": "python",
   "pygments_lexer": "ipython3",
   "version": "3.5.2"
  }
 },
 "nbformat": 4,
 "nbformat_minor": 2
}
