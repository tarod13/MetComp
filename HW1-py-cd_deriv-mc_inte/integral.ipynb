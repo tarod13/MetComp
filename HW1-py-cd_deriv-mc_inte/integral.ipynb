{
 "cells": [
  {
   "cell_type": "code",
   "execution_count": 1,
   "metadata": {
    "collapsed": true
   },
   "outputs": [],
   "source": [
    "import numpy as np\n",
    "import pylab as plt"
   ]
  },
  {
   "cell_type": "code",
   "execution_count": 2,
   "metadata": {
    "collapsed": true
   },
   "outputs": [],
   "source": [
    "def funcion(x):\n",
    "    return np.sum(x)**3\n",
    "    #return np.sqrt(1-x**2)"
   ]
  },
  {
   "cell_type": "code",
   "execution_count": 3,
   "metadata": {
    "collapsed": true
   },
   "outputs": [],
   "source": [
    "def integral_MC(lim_inf,lim_sup,n_puntos,dim,altura_max):   \n",
    "    n_puntos_dentro = 0\n",
    "    for i in range(0,n_puntos):\n",
    "        rand_punto = (lim_sup-lim_inf)*np.random.random(size = (dim,1))\n",
    "        rand_altura = altura_max*np.random.random()\n",
    "        altura = funcion(rand_punto)\n",
    "        if rand_altura < altura:\n",
    "            n_puntos_dentro = n_puntos_dentro + 1            \n",
    "    integral_aproximada = (lim_sup-lim_inf)**dim * altura_max * n_puntos_dentro / n_puntos\n",
    "    return integral_aproximada"
   ]
  },
  {
   "cell_type": "code",
   "execution_count": 4,
   "metadata": {},
   "outputs": [],
   "source": [
    "def promedio_integral(lim_inf,lim_sup,n_puntos,dim,altura_max,n_rep):\n",
    "    suma = 0\n",
    "    for i in range(0,n_rep):\n",
    "        aproximacion_integral = integral_MC(lim_inf,lim_sup,n_puntos,dim,altura_max)\n",
    "        suma = suma + aproximacion_integral\n",
    "    return suma/n_rep"
   ]
  },
  {
   "cell_type": "code",
   "execution_count": 5,
   "metadata": {
    "collapsed": true
   },
   "outputs": [],
   "source": [
    "def promedio_integral_variando_Npuntos(lista):\n",
    "    integralN = np.array([promedio_integral(limInf, limSup, N, Dim, valorMax, nRep) for N in lista])\n",
    "    return integralN        "
   ]
  },
  {
   "cell_type": "code",
   "execution_count": 6,
   "metadata": {},
   "outputs": [],
   "source": [
    "#limite_inf = 0\n",
    "#lim_sup = 1\n",
    "#n_puntos = 1000\n",
    "#dim = 1\n",
    "#altura_max = 1\n",
    "limInf = 0\n",
    "limSup = 2\n",
    "npuntos = 2000\n",
    "Dim = 10\n",
    "valorMax = 20**3\n",
    "nRep = 20\n",
    "expInf = 1\n",
    "expSup = 13\n",
    "integral_analitica = 1126400"
   ]
  },
  {
   "cell_type": "code",
   "execution_count": 7,
   "metadata": {},
   "outputs": [
    {
     "name": "stdout",
     "output_type": "stream",
     "text": [
      "La integral obtenida al promediar 20 resultados, tomando 2000 puntos es: 1107148.8\n",
      "\n"
     ]
    }
   ],
   "source": [
    "integral_numerica = promedio_integral(limInf, limSup, npuntos, Dim, valorMax, nRep)\n",
    "print('La integral obtenida al promediar 20 resultados, tomando %s puntos es: %s\\n' % (npuntos,integral_numerica))"
   ]
  },
  {
   "cell_type": "code",
   "execution_count": 8,
   "metadata": {},
   "outputs": [],
   "source": [
    "Npuntos = np.array([2**i for i in range(expInf,expSup+1)])\n",
    "promedio_integral_exponentes = promedio_integral_variando_Npuntos(Npuntos)\n",
    "fig1, ax1 = plt.subplots()\n",
    "ax1.plot(Npuntos,promedio_integral_exponentes)\n",
    "ax1.set_xscale('log',basex=2)\n",
    "ax1.set_xlabel(r'Número de puntos $N$ utilizados para integrar')\n",
    "ax1.set_ylabel(r'Promedio de la integral aproximada')\n",
    "ax1.ticklabel_format(style='sci', axis='y')\n",
    "ax1.yaxis.major.formatter.set_powerlimits((0,0)) \n",
    "ax1.grid(linestyle='--', linewidth=0.25)\n",
    "fig1.savefig('num_integral.pdf')"
   ]
  },
  {
   "cell_type": "code",
   "execution_count": 10,
   "metadata": {
    "collapsed": true
   },
   "outputs": [],
   "source": [
    "errores = integral_analitica - promedio_integral_exponentes\n",
    "inversa_raiz_Npuntos = 1/np.sqrt(Npuntos)\n",
    "fig2, ax2 = plt.subplots()\n",
    "ax2.plot(inversa_raiz_Npuntos,errores)\n",
    "ax2.set_xlabel(r'$N^{-1/2}$')\n",
    "ax2.set_ylabel(r'Error de la integral numérica')\n",
    "ax2.ticklabel_format(style='sci', axis='y')\n",
    "ax2.yaxis.major.formatter.set_powerlimits((0,0)) \n",
    "ax2.grid(linestyle='--', linewidth=0.25)\n",
    "fig2.savefig('err_integral.pdf')"
   ]
  },
  {
   "cell_type": "code",
   "execution_count": null,
   "metadata": {
    "collapsed": true
   },
   "outputs": [],
   "source": []
  }
 ],
 "metadata": {
  "kernelspec": {
   "display_name": "Python 3",
   "language": "python",
   "name": "python3"
  },
  "language_info": {
   "codemirror_mode": {
    "name": "ipython",
    "version": 3
   },
   "file_extension": ".py",
   "mimetype": "text/x-python",
   "name": "python",
   "nbconvert_exporter": "python",
   "pygments_lexer": "ipython3",
   "version": "3.5.2"
  }
 },
 "nbformat": 4,
 "nbformat_minor": 2
}
