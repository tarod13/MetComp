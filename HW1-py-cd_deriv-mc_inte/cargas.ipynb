{
 "cells": [
  {
   "cell_type": "code",
   "execution_count": 1,
   "metadata": {
    "collapsed": true
   },
   "outputs": [],
   "source": [
    "# Se importan librerias necesarias\n",
    "import numpy as np\n",
    "import pylab as plt\n",
    "import numpy.linalg as lin"
   ]
  },
  {
   "cell_type": "code",
   "execution_count": 2,
   "metadata": {
    "collapsed": true
   },
   "outputs": [],
   "source": [
    "# Se ignonan las advertencias relacionadas con divisiones por 0\n",
    "estados_ignorados = np.seterr(divide='ignore')"
   ]
  },
  {
   "cell_type": "code",
   "execution_count": 3,
   "metadata": {
    "collapsed": true
   },
   "outputs": [],
   "source": [
    "# Se define la clase carga\n",
    "# Atributos: mag - magnitud de la carga, pos - posicion (x,y)\n",
    "# Metodos: potencial - potencial generado por la carga en un punto (x,y)\n",
    "class carga:\n",
    "    def __init__(self, magnitud, posicion):\n",
    "        self.mag = magnitud\n",
    "        self.pos = posicion\n",
    "    def potencial(self,pos2_x,pos2_y):\n",
    "        dist_x = self.pos[0]*np.ones((len(pos2_y),len(pos2_x))) - pos2_x\n",
    "        dist_y = self.pos[1]*np.ones((len(pos2_y),len(pos2_x))) - pos2_y\n",
    "        dist = np.sqrt(dist_x**2+dist_y**2)\n",
    "        infMat = self.mag*float('inf')*np.ones((len(pos2_y),len(pos2_x)))        \n",
    "        V_carga = np.where(dist == 0.0,infMat,np.divide(kmod*self.mag,dist))        \n",
    "        return V_carga\n",
    "    def campo(self,pos2_x,pos2_y):\n",
    "        dist_x = self.pos[0]*np.ones((len(pos2_y),len(pos2_x))) - pos2_x\n",
    "        dist_y = self.pos[1]*np.ones((len(pos2_y),len(pos2_x))) - pos2_y\n",
    "        dist = np.sqrt(dist_x**2+dist_y**2)\n",
    "        infMat = self.mag*float('inf')*np.ones((len(pos2_y),len(pos2_x)))        \n",
    "        E_mag = np.where(dist == 0.0,infMat,np.divide(-kmod*self.mag,dist**2))\n",
    "        E_carga_x = -E_mag*dist_x/dist\n",
    "        E_carga_y = -E_mag*dist_y/dist        \n",
    "        return(E_carga_x,E_carga_y)"
   ]
  },
  {
   "cell_type": "code",
   "execution_count": 4,
   "metadata": {
    "collapsed": true
   },
   "outputs": [],
   "source": [
    "# Se define la funcion que halla el gradiente de un campo escalar 2D (matriz cuadrada n x n) por medio del\n",
    "# metodo central differentiation (se toma la diferencia del punto siguiente y el anterior al punto evaluado)\n",
    "# Parametros: puntos - intervalo del eje a ser derivado, \n",
    "#             evaluaciones - valores que toma la función en el rectangulo\n",
    "#             limitado por el intervalo especificado\n",
    "# Salidas: derivada_x - matriz cuadrada n-1 x n-1 con la componente x del gradiente del campo evaluado\n",
    "#          derivada_y - matriz cuadrada n-1 x n-1 con la componente y del gradiente del campo evaluado\n",
    "def derivacion_cd_2D(puntos,evaluaciones):\n",
    "    diferencias_puntos = puntos[2:len(puntos)]-puntos[0:len(puntos)-2]\n",
    "    diferencias_f_x = evaluaciones[1:len(puntos)-1,2:len(puntos)]-evaluaciones[1:len(puntos)-1,0:len(puntos)-2]\n",
    "    diferencias_f_y = evaluaciones[2:len(puntos),1:len(puntos)-1]-evaluaciones[0:len(puntos)-2,1:len(puntos)-1]\n",
    "    dif_puntos_x, dif_puntos_y = np.meshgrid(diferencias_puntos,diferencias_puntos)     \n",
    "    derivadas_x = diferencias_f_x/dif_puntos_x\n",
    "    derivadas_y = diferencias_f_y/dif_puntos_y    \n",
    "    return(derivadas_x, derivadas_y)"
   ]
  },
  {
   "cell_type": "code",
   "execution_count": 5,
   "metadata": {
    "collapsed": true
   },
   "outputs": [],
   "source": [
    "#Se definen las constantes necesarias\n",
    "k = 8.987e9             # Constante de Coulomb en N.m^2.C^-2\n",
    "e = 1.602176e-19        # Magnitud de la carga de un electron en C\n",
    "nm = 1e-9               # Longitud de un nm en m\n",
    "kmod = k*e**2/nm**3     # Constante de Coulomb en nN.nm^2.e^-2\n",
    "magnitud = 1.0          # Magnitud de las cargas del problema en e\n",
    "lado = 1.0              # Longitud relevante del problema en nm\n",
    "npuntos = 201           # Cantidad de puntos en los que se divide una dimension "
   ]
  },
  {
   "cell_type": "code",
   "execution_count": 6,
   "metadata": {
    "collapsed": true
   },
   "outputs": [],
   "source": [
    "# Se crean las 4 cargas del problema como instancias de la clase carga\n",
    "carga_1 = carga(magnitud,np.array([lado/2,lado/2]))\n",
    "carga_2 = carga(-magnitud,np.array([-lado/2,lado/2]))\n",
    "carga_3 = carga(magnitud,np.array([-lado/2,-lado/2]))\n",
    "carga_4 = carga(-magnitud,np.array([lado/2,-lado/2]))  "
   ]
  },
  {
   "cell_type": "code",
   "execution_count": 7,
   "metadata": {
    "collapsed": true
   },
   "outputs": [],
   "source": [
    "# Se crean los ejes y mallas para la evaluacion del campo y el potencial\n",
    "x = np.linspace(-lado,lado,npuntos)         # Eje x para la eval. del potencial\n",
    "xE = np.copy(x[1:npuntos-1])                # Eje x para la eval. del campo\n",
    "xgrid, ygrid = np.meshgrid(x,x)             # Malla para la eval. del potencial\n",
    "xgridE, ygridE = np.meshgrid(xE,xE)         # Malla para la eval. del campo"
   ]
  },
  {
   "cell_type": "code",
   "execution_count": 8,
   "metadata": {
    "collapsed": true
   },
   "outputs": [],
   "source": [
    "# Se evalua el potencial creado por cada carga en la malla y el potencial \n",
    "# total a partir del teorema de superposicion\n",
    "V_carga_1 = np.copy(carga_1.potencial(xgrid,ygrid))\n",
    "V_carga_2 = np.copy(carga_2.potencial(xgrid,ygrid))\n",
    "V_carga_3 = np.copy(carga_3.potencial(xgrid,ygrid))\n",
    "V_carga_4 = np.copy(carga_4.potencial(xgrid,ygrid))\n",
    "Vtotal = V_carga_1 + V_carga_2 + V_carga_3 + V_carga_4  "
   ]
  },
  {
   "cell_type": "code",
   "execution_count": 10,
   "metadata": {},
   "outputs": [],
   "source": [
    "# Se evalua el campo electrico a partir del menos gradiente del potencial\n",
    "#for k in range(1,npuntos-1):\n",
    "#    Ex_linea = np.negative(derivacion_cd(x,V[k]))\n",
    "#    Ey_linea = np.negative(derivacion_cd(x,np.transpose(V)[k]))\n",
    "#    if k == 1:\n",
    "#        Ex = np.array([np.copy(Ex_linea)])\n",
    "#        Ey = np.array([np.copy(Ey_linea)])\n",
    "#    else:\n",
    "#        Ex = np.append(Ex,np.array([Ex_linea]),axis=0)\n",
    "#        Ey = np.append(Ey,np.array([Ey_linea]),axis=0)\n",
    "\n",
    "Ex, Ey = np.negative(derivacion_cd_2D(x,Vtotal))"
   ]
  },
  {
   "cell_type": "code",
   "execution_count": 21,
   "metadata": {},
   "outputs": [],
   "source": [
    "# Se genera la grafica del campo y el potencial en el espacio especificado\n",
    "Vfin = Vtotal[np.isfinite(Vtotal)]                #Se separan los valores finitos del potencial\n",
    "R = np.sqrt((Ex) ** 2 + (Ey) ** 2)      # Se calcula la magnitud del campo\n",
    "color_map = plt.cm.gist_rainbow         # Se define la escala de colores\n",
    "color_map.set_over('k', 1)              # Se define el color para +infinito\n",
    "color_map.set_under('w', 1)             # Se define el color para -infinito\n",
    "fig1, ax1 = plt.subplots()\n",
    "im1 = ax1.pcolormesh(xgrid,ygrid,Vtotal, cmap=color_map,vmin=Vfin.min(), vmax=Vfin.max())\n",
    "#im1 = fig1.imshow(Vtotal, cmap=color_map,vmin=Vfin.min(), vmax=Vfin.max())\n",
    "#plt.quiver(xgridE, ygridE, Ex, Ey, R, edgecolor = 'None', alpha=0.5)\n",
    "#plt.quiver(xgrid, ygrid, Ex, Ey, edgecolor = 'None', alpha=0.1) \n",
    "#plt.streamplot(xgridE, ygridE, Ex, Ey, linewidth=1, cmap=plt.cm.autumn)\n",
    "ax1.streamplot(xgridE, ygridE,Ex, Ey, linewidth=0.5, cmap=plt.cm.autumn)   \n",
    "# Se genera la escala de colores correspondiente al potencial\n",
    "fig1.colorbar(im1, extend = 'both',label = r'$V$' ' (nN\\u2022nm/e)')\n",
    "# Se ajustan los ejes para que tengan el mismo tamanyo\n",
    "fig1.gca().set_aspect('equal', adjustable='box')\n",
    "plt.xlabel(r'$x$' ' (nm)')                    \n",
    "plt.ylabel(r'$y$' ' (nm)')                    \n",
    "fig1.savefig('cargas.pdf')"
   ]
  },
  {
   "cell_type": "code",
   "execution_count": null,
   "metadata": {
    "collapsed": true
   },
   "outputs": [],
   "source": [
    "# Se avisa cuando termina la ejecucion         \n",
    "print('Proceso terminado.\\n')   "
   ]
  },
  {
   "cell_type": "code",
   "execution_count": null,
   "metadata": {
    "collapsed": true
   },
   "outputs": [],
   "source": []
  }
 ],
 "metadata": {
  "kernelspec": {
   "display_name": "Python 3",
   "language": "python",
   "name": "python3"
  },
  "language_info": {
   "codemirror_mode": {
    "name": "ipython",
    "version": 3
   },
   "file_extension": ".py",
   "mimetype": "text/x-python",
   "name": "python",
   "nbconvert_exporter": "python",
   "pygments_lexer": "ipython3",
   "version": "3.5.2"
  }
 },
 "nbformat": 4,
 "nbformat_minor": 2
}
